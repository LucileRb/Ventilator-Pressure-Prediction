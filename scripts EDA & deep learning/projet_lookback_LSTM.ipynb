{
  "cells": [
    {
      "cell_type": "code",
      "execution_count": 1,
      "id": "c8d261c2",
      "metadata": {
        "id": "c8d261c2"
      },
      "outputs": [],
      "source": [
        "# Imports\n",
        "import numpy as np\n",
        "import pandas as pd\n",
        "import matplotlib.pyplot as plt\n",
        "import seaborn as sns\n",
        "import random\n",
        "from tensorflow.keras.callbacks import EarlyStopping"
      ]
    },
    {
      "cell_type": "code",
      "source": [
        "from google.colab import drive\n",
        "drive.mount('/content/drive')"
      ],
      "metadata": {
        "colab": {
          "base_uri": "https://localhost:8080/"
        },
        "id": "cmshw6rbgtNH",
        "outputId": "4d59da79-9903-4e07-e6d0-73a0fa5e9f6a"
      },
      "id": "cmshw6rbgtNH",
      "execution_count": 2,
      "outputs": [
        {
          "output_type": "stream",
          "name": "stdout",
          "text": [
            "Drive already mounted at /content/drive; to attempt to forcibly remount, call drive.mount(\"/content/drive\", force_remount=True).\n"
          ]
        }
      ]
    },
    {
      "cell_type": "code",
      "execution_count": null,
      "id": "50c25a12",
      "metadata": {
        "id": "50c25a12"
      },
      "outputs": [],
      "source": [
        "# Load dataset train\n",
        "train = pd.read_csv('/content/drive/MyDrive/Projet_schoolofdata/train.csv')"
      ]
    },
    {
      "cell_type": "code",
      "source": [
        "# split dataset en 3\n",
        "train1 = train[:2000000]\n",
        "train2 = train[2000000:4000000]\n",
        "train3 = train[4000000:]"
      ],
      "metadata": {
        "id": "Oh1FGHZoZ0Gy"
      },
      "id": "Oh1FGHZoZ0Gy",
      "execution_count": null,
      "outputs": []
    },
    {
      "cell_type": "markdown",
      "source": [
        "# preprocessing #\n"
      ],
      "metadata": {
        "id": "-LC0KGKZmYPq"
      },
      "id": "-LC0KGKZmYPq"
    },
    {
      "cell_type": "code",
      "source": [
        "# fonction preprocessing\n",
        "\n",
        "# TODO: Compute X and y en prenant lookback\n",
        "def processData(data, past):\n",
        "    X = []                                   # on cree une matrice X\n",
        "    for i in range(len(data)-past-1):             # on itere sur les dates \n",
        "        X.append(data.iloc[i:i+past].values)           # pas besoin de mettre l'indice des colonnes, on prend tout\n",
        "    return np.array(X)\n",
        "\n",
        "lookback = 80                                     # pour regarder past respiration - 1 respi = 80 données"
      ],
      "metadata": {
        "id": "BmSlHL_dzFKJ"
      },
      "id": "BmSlHL_dzFKJ",
      "execution_count": null,
      "outputs": []
    },
    {
      "cell_type": "code",
      "source": [
        "# PREPROCESSING 1\n",
        "y1 = train1['pressure'][lookback+1:]\n",
        "X1 = processData(train1.drop(['id', 'breath_id', 'time_step', 'pressure'], axis=1), lookback)\n",
        "X1.shape, y1.shape"
      ],
      "metadata": {
        "colab": {
          "base_uri": "https://localhost:8080/"
        },
        "id": "lGlrXfRlToir",
        "outputId": "3b8caa0a-9e93-410b-f392-305c3f66e91b"
      },
      "id": "lGlrXfRlToir",
      "execution_count": null,
      "outputs": [
        {
          "output_type": "execute_result",
          "data": {
            "text/plain": [
              "((1999919, 80, 4), (1999919,))"
            ]
          },
          "metadata": {},
          "execution_count": 8
        }
      ]
    },
    {
      "cell_type": "code",
      "source": [
        "# TODO: split (on shuffle pas pour garder information temporelle)\n",
        "from sklearn.model_selection import train_test_split\n",
        "X_train1, X_test1, y_train1, y_test1 = train_test_split(X1, y1, test_size=0.2, random_state=0, shuffle=False, stratify=None)"
      ],
      "metadata": {
        "id": "H7-XOtSKUxIq"
      },
      "id": "H7-XOtSKUxIq",
      "execution_count": null,
      "outputs": []
    },
    {
      "cell_type": "code",
      "source": [
        "X_train1.shape, X_test1.shape, y_train1.shape, y_test1.shape"
      ],
      "metadata": {
        "colab": {
          "base_uri": "https://localhost:8080/"
        },
        "id": "zZ6DBdLXUy7P",
        "outputId": "fa41a901-3ef3-48fe-cfca-4581ed8b7077"
      },
      "id": "zZ6DBdLXUy7P",
      "execution_count": null,
      "outputs": [
        {
          "output_type": "execute_result",
          "data": {
            "text/plain": [
              "((1599935, 80, 4), (399984, 80, 4), (1599935,), (399984,))"
            ]
          },
          "metadata": {},
          "execution_count": 10
        }
      ]
    },
    {
      "cell_type": "code",
      "source": [
        "# scale data\n",
        "# impossible d'utiliser standardscaler ici car 3 dim\n",
        "X_train1 = (X_train1 - np.mean(X_train1, axis=0))/np.std(X_train1, axis=0)\n",
        "X_test1 = (X_test1 - np.mean(X_test1, axis=0))/np.std(X_test1, axis=0)"
      ],
      "metadata": {
        "id": "VZsAiN65U57-"
      },
      "id": "VZsAiN65U57-",
      "execution_count": null,
      "outputs": []
    },
    {
      "cell_type": "code",
      "source": [
        "# export preprocessed data batch 1 en pickle"
      ],
      "metadata": {
        "id": "anAIyQ-2ktdm"
      },
      "id": "anAIyQ-2ktdm",
      "execution_count": null,
      "outputs": []
    },
    {
      "cell_type": "code",
      "source": [
        "import pickle, os"
      ],
      "metadata": {
        "id": "FuHWnRk_tV0u"
      },
      "id": "FuHWnRk_tV0u",
      "execution_count": null,
      "outputs": []
    },
    {
      "cell_type": "code",
      "source": [
        "filepath = os.path.join('/content/drive/MyDrive/Projet_schoolofdata/', 'X_train1')"
      ],
      "metadata": {
        "id": "YVfOY5lTtYaQ"
      },
      "id": "YVfOY5lTtYaQ",
      "execution_count": null,
      "outputs": []
    },
    {
      "cell_type": "code",
      "source": [
        "with open(filepath, 'wb') as f:\n",
        "  pickle.dump(X_train1, f)"
      ],
      "metadata": {
        "id": "ngmpVxy0twiF"
      },
      "id": "ngmpVxy0twiF",
      "execution_count": null,
      "outputs": []
    },
    {
      "cell_type": "code",
      "source": [
        "filepath = os.path.join('/content/drive/MyDrive/Projet_schoolofdata/', 'X_test1')"
      ],
      "metadata": {
        "id": "VNx10VFgukDm"
      },
      "id": "VNx10VFgukDm",
      "execution_count": null,
      "outputs": []
    },
    {
      "cell_type": "code",
      "source": [
        "with open(filepath, 'wb') as f:\n",
        "  pickle.dump(X_test1, f)"
      ],
      "metadata": {
        "id": "_bT91ZT8u9s3"
      },
      "id": "_bT91ZT8u9s3",
      "execution_count": null,
      "outputs": []
    },
    {
      "cell_type": "code",
      "source": [
        "filepath = os.path.join('/content/drive/MyDrive/Projet_schoolofdata/', 'y_train1')"
      ],
      "metadata": {
        "id": "Q5HOgjbc_OBU"
      },
      "id": "Q5HOgjbc_OBU",
      "execution_count": null,
      "outputs": []
    },
    {
      "cell_type": "code",
      "source": [
        "with open(filepath, 'wb') as f:\n",
        "  pickle.dump(y_train1, f)"
      ],
      "metadata": {
        "id": "OgPLViKC_TGo"
      },
      "id": "OgPLViKC_TGo",
      "execution_count": null,
      "outputs": []
    },
    {
      "cell_type": "code",
      "source": [
        "filepath = os.path.join('/content/drive/MyDrive/Projet_schoolofdata/', 'y_test1')"
      ],
      "metadata": {
        "id": "oP0P5hJf_Raj"
      },
      "id": "oP0P5hJf_Raj",
      "execution_count": null,
      "outputs": []
    },
    {
      "cell_type": "code",
      "source": [
        ".with open(filepath, 'wb') as f:\n",
        "  pickle.dump(y_test1, f)"
      ],
      "metadata": {
        "id": "7cqU27Pe_Trb"
      },
      "id": "7cqU27Pe_Trb",
      "execution_count": null,
      "outputs": []
    },
    {
      "cell_type": "code",
      "source": [
        "# PREPROCESSING 2\n",
        "\n",
        "y2 = train2['pressure'][lookback+1:]\n",
        "X2 = processData(train2.drop(['id', 'breath_id', 'time_step', 'pressure'], axis=1), lookback)\n",
        "X2.shape, y2.shape"
      ],
      "metadata": {
        "colab": {
          "base_uri": "https://localhost:8080/"
        },
        "id": "QGGX4N56abvn",
        "outputId": "61a07f3a-9786-4cbe-84c1-2ade610701d0"
      },
      "id": "QGGX4N56abvn",
      "execution_count": null,
      "outputs": [
        {
          "output_type": "execute_result",
          "data": {
            "text/plain": [
              "((1999919, 80, 4), (1999919,))"
            ]
          },
          "metadata": {},
          "execution_count": 7
        }
      ]
    },
    {
      "cell_type": "code",
      "source": [
        "# TODO: split (on shuffle pas pour garder information temporelle)\n",
        "from sklearn.model_selection import train_test_split\n",
        "X_train2, X_test2, y_train2, y_test2 = train_test_split(X2, y2, test_size=0.2, random_state=0, shuffle=False, stratify=None)"
      ],
      "metadata": {
        "id": "oFWwc-UgbJ7g"
      },
      "id": "oFWwc-UgbJ7g",
      "execution_count": null,
      "outputs": []
    },
    {
      "cell_type": "code",
      "source": [
        "X_train2.shape, X_test2.shape, y_train2.shape, y_test2.shape"
      ],
      "metadata": {
        "colab": {
          "base_uri": "https://localhost:8080/"
        },
        "id": "72U6IXuVbRia",
        "outputId": "05a5f524-ebd5-4581-8239-5beab137b50b"
      },
      "id": "72U6IXuVbRia",
      "execution_count": null,
      "outputs": [
        {
          "output_type": "execute_result",
          "data": {
            "text/plain": [
              "((1599935, 80, 4), (399984, 80, 4), (1599935,), (399984,))"
            ]
          },
          "metadata": {},
          "execution_count": 9
        }
      ]
    },
    {
      "cell_type": "code",
      "source": [
        "# scale data\n",
        "# impossible d'utiliser standardscaler ici car 3 dim\n",
        "X_train2 = (X_train2 - np.mean(X_train2, axis=0))/np.std(X_train2, axis=0)\n",
        "X_test2 = (X_test2 - np.mean(X_test2, axis=0))/np.std(X_test2, axis=0)"
      ],
      "metadata": {
        "id": "7L2XLaGJbV9s"
      },
      "id": "7L2XLaGJbV9s",
      "execution_count": null,
      "outputs": []
    },
    {
      "cell_type": "code",
      "source": [
        "# export preprocessed data batch 2 en pickle"
      ],
      "metadata": {
        "id": "JagUtOANkrgB"
      },
      "id": "JagUtOANkrgB",
      "execution_count": null,
      "outputs": []
    },
    {
      "cell_type": "code",
      "source": [
        "import pickle, os"
      ],
      "metadata": {
        "id": "ggUn0l6ZxXQ9"
      },
      "id": "ggUn0l6ZxXQ9",
      "execution_count": null,
      "outputs": []
    },
    {
      "cell_type": "code",
      "source": [
        "filepath = os.path.join('/content/drive/MyDrive/Projet_schoolofdata/', 'X_train2')"
      ],
      "metadata": {
        "id": "dfqFifu-xYhg"
      },
      "id": "dfqFifu-xYhg",
      "execution_count": null,
      "outputs": []
    },
    {
      "cell_type": "code",
      "source": [
        "with open(filepath, 'wb') as f:\n",
        "  pickle.dump(X_train2, f)"
      ],
      "metadata": {
        "id": "KM5rO1RExbHu"
      },
      "id": "KM5rO1RExbHu",
      "execution_count": null,
      "outputs": []
    },
    {
      "cell_type": "code",
      "source": [
        "filepath = os.path.join('/content/drive/MyDrive/Projet_schoolofdata/', 'X_test2')"
      ],
      "metadata": {
        "id": "eTfz-KjPxdL8"
      },
      "id": "eTfz-KjPxdL8",
      "execution_count": null,
      "outputs": []
    },
    {
      "cell_type": "code",
      "source": [
        "with open(filepath, 'wb') as f:\n",
        "  pickle.dump(X_test2, f)"
      ],
      "metadata": {
        "id": "_5d4mVy3xfef"
      },
      "id": "_5d4mVy3xfef",
      "execution_count": null,
      "outputs": []
    },
    {
      "cell_type": "code",
      "source": [
        "filepath = os.path.join('/content/drive/MyDrive/Projet_schoolofdata/', 'y_train2')"
      ],
      "metadata": {
        "id": "lNnTmbWRTtfm"
      },
      "id": "lNnTmbWRTtfm",
      "execution_count": null,
      "outputs": []
    },
    {
      "cell_type": "code",
      "source": [
        "with open(filepath, 'wb') as f:\n",
        "  pickle.dump(y_train2, f)"
      ],
      "metadata": {
        "id": "O3zN89azTtT3"
      },
      "id": "O3zN89azTtT3",
      "execution_count": null,
      "outputs": []
    },
    {
      "cell_type": "code",
      "source": [
        "filepath = os.path.join('/content/drive/MyDrive/Projet_schoolofdata/', 'y_test2')"
      ],
      "metadata": {
        "id": "KdbHx7qRTtJ-"
      },
      "id": "KdbHx7qRTtJ-",
      "execution_count": null,
      "outputs": []
    },
    {
      "cell_type": "code",
      "source": [
        "with open(filepath, 'wb') as f:\n",
        "  pickle.dump(y_test2, f)"
      ],
      "metadata": {
        "id": "ydpddlzfxuy_"
      },
      "id": "ydpddlzfxuy_",
      "execution_count": null,
      "outputs": []
    },
    {
      "cell_type": "code",
      "source": [
        "# PREPROCESSING 3\n",
        "\n",
        "y3 = train3['pressure'][lookback+1:]\n",
        "X3 = processData(train3.drop(['id', 'breath_id', 'time_step', 'pressure'], axis=1), lookback)\n",
        "X3.shape, y3.shape"
      ],
      "metadata": {
        "colab": {
          "base_uri": "https://localhost:8080/"
        },
        "id": "PiyT-4YbbpC8",
        "outputId": "f08219a0-d108-4e73-c007-f2bc93b1e97e"
      },
      "id": "PiyT-4YbbpC8",
      "execution_count": null,
      "outputs": [
        {
          "output_type": "execute_result",
          "data": {
            "text/plain": [
              "((2035919, 80, 4), (2035919,))"
            ]
          },
          "metadata": {},
          "execution_count": 5
        }
      ]
    },
    {
      "cell_type": "code",
      "source": [
        "from sklearn.model_selection import train_test_split\n",
        "X_train3, X_test3, y_train3, y_test3 = train_test_split(X3, y3, test_size=0.2, random_state=0, shuffle=False, stratify=None)"
      ],
      "metadata": {
        "id": "QxBgMFAPbzOp"
      },
      "id": "QxBgMFAPbzOp",
      "execution_count": null,
      "outputs": []
    },
    {
      "cell_type": "code",
      "source": [
        "X_train3.shape, X_test3.shape, y_train3.shape, y_test3.shape"
      ],
      "metadata": {
        "colab": {
          "base_uri": "https://localhost:8080/"
        },
        "id": "3zdxA97Qb47C",
        "outputId": "f6473b8a-35ab-4470-e050-7c6529b46686"
      },
      "id": "3zdxA97Qb47C",
      "execution_count": null,
      "outputs": [
        {
          "output_type": "execute_result",
          "data": {
            "text/plain": [
              "((1628735, 80, 4), (407184, 80, 4), (1628735,), (407184,))"
            ]
          },
          "metadata": {},
          "execution_count": 7
        }
      ]
    },
    {
      "cell_type": "code",
      "source": [
        "X_train3 = (X_train3 - np.mean(X_train3, axis=0))/np.std(X_train3, axis=0)\n",
        "X_test3 = (X_test3 - np.mean(X_test3, axis=0))/np.std(X_test3, axis=0)"
      ],
      "metadata": {
        "id": "GDgU7sj5b95P"
      },
      "id": "GDgU7sj5b95P",
      "execution_count": null,
      "outputs": []
    },
    {
      "cell_type": "code",
      "source": [
        "# export preprocessed data batch 3 en pickle"
      ],
      "metadata": {
        "id": "8GuqZmnSkmBO"
      },
      "id": "8GuqZmnSkmBO",
      "execution_count": null,
      "outputs": []
    },
    {
      "cell_type": "code",
      "source": [
        "import pickle, os"
      ],
      "metadata": {
        "id": "TrEDTqW61kH2"
      },
      "id": "TrEDTqW61kH2",
      "execution_count": 3,
      "outputs": []
    },
    {
      "cell_type": "code",
      "source": [
        "filepath = os.path.join('/content/drive/MyDrive/Projet_schoolofdata/', 'X_train3')"
      ],
      "metadata": {
        "id": "Jes0eKfL1l_5"
      },
      "id": "Jes0eKfL1l_5",
      "execution_count": null,
      "outputs": []
    },
    {
      "cell_type": "code",
      "source": [
        "with open(filepath, 'wb') as f:\n",
        "  pickle.dump(X_train3, f)"
      ],
      "metadata": {
        "id": "5O3VjWyP1oMv"
      },
      "id": "5O3VjWyP1oMv",
      "execution_count": null,
      "outputs": []
    },
    {
      "cell_type": "code",
      "source": [
        "filepath = os.path.join('/content/drive/MyDrive/Projet_schoolofdata/', 'X_test3')"
      ],
      "metadata": {
        "id": "BwlcLooR1p4G"
      },
      "id": "BwlcLooR1p4G",
      "execution_count": null,
      "outputs": []
    },
    {
      "cell_type": "code",
      "source": [
        "with open(filepath, 'wb') as f:\n",
        "  pickle.dump(X_test3, f)"
      ],
      "metadata": {
        "id": "9PCjxOJ91rbO"
      },
      "id": "9PCjxOJ91rbO",
      "execution_count": null,
      "outputs": []
    },
    {
      "cell_type": "code",
      "source": [
        "filepath = os.path.join('/content/drive/MyDrive/Projet_schoolofdata/', 'y_train3')"
      ],
      "metadata": {
        "id": "gtnk7UnuXBo_"
      },
      "id": "gtnk7UnuXBo_",
      "execution_count": null,
      "outputs": []
    },
    {
      "cell_type": "code",
      "source": [
        "with open(filepath, 'wb') as f:\n",
        "  pickle.dump(y_train3, f)"
      ],
      "metadata": {
        "id": "ihwbSk4fXBjh"
      },
      "id": "ihwbSk4fXBjh",
      "execution_count": null,
      "outputs": []
    },
    {
      "cell_type": "code",
      "source": [
        "filepath = os.path.join('/content/drive/MyDrive/Projet_schoolofdata/', 'y_test3')"
      ],
      "metadata": {
        "id": "ZRnvT1yiXBdz"
      },
      "id": "ZRnvT1yiXBdz",
      "execution_count": null,
      "outputs": []
    },
    {
      "cell_type": "code",
      "source": [
        "with open(filepath, 'wb') as f:\n",
        "  pickle.dump(y_test3, f)"
      ],
      "metadata": {
        "id": "m6Y1aOQjXBXT"
      },
      "id": "m6Y1aOQjXBXT",
      "execution_count": null,
      "outputs": []
    },
    {
      "cell_type": "code",
      "source": [
        "# vérifier type\n",
        "type(X_train3)"
      ],
      "metadata": {
        "colab": {
          "base_uri": "https://localhost:8080/"
        },
        "id": "Qpu-pKC4fA0B",
        "outputId": "93f50c52-065c-4fe8-a684-a5447957ff5e"
      },
      "id": "Qpu-pKC4fA0B",
      "execution_count": null,
      "outputs": [
        {
          "output_type": "execute_result",
          "data": {
            "text/plain": [
              "numpy.ndarray"
            ]
          },
          "metadata": {},
          "execution_count": 9
        }
      ]
    },
    {
      "cell_type": "code",
      "source": [
        "type(y_train3)"
      ],
      "metadata": {
        "colab": {
          "base_uri": "https://localhost:8080/"
        },
        "id": "shx-TdUKfHbw",
        "outputId": "b881dfd2-735b-4cd4-cc30-4bd57fb7d6fc"
      },
      "id": "shx-TdUKfHbw",
      "execution_count": null,
      "outputs": [
        {
          "output_type": "execute_result",
          "data": {
            "text/plain": [
              "pandas.core.series.Series"
            ]
          },
          "metadata": {},
          "execution_count": 10
        }
      ]
    },
    {
      "cell_type": "markdown",
      "source": [
        "# recombiner données preprocessées #"
      ],
      "metadata": {
        "id": "XybaBmYQmgoQ"
      },
      "id": "XybaBmYQmgoQ"
    },
    {
      "cell_type": "code",
      "source": [
        "# recombiner les datasets"
      ],
      "metadata": {
        "id": "mqSQxnms7Qc-"
      },
      "id": "mqSQxnms7Qc-",
      "execution_count": null,
      "outputs": []
    },
    {
      "cell_type": "code",
      "source": [
        "# X_train"
      ],
      "metadata": {
        "id": "JT1oB1lHkfxf"
      },
      "id": "JT1oB1lHkfxf",
      "execution_count": null,
      "outputs": []
    },
    {
      "cell_type": "code",
      "source": [
        "!unzip -u '/content/drive/MyDrive/Projet_schoolofdata/xtrain.zip'"
      ],
      "metadata": {
        "colab": {
          "base_uri": "https://localhost:8080/"
        },
        "id": "ElFrmXFqcqiF",
        "outputId": "d892a83d-7d10-4e51-fef2-8f9aa7c2d1ab"
      },
      "id": "ElFrmXFqcqiF",
      "execution_count": 3,
      "outputs": [
        {
          "output_type": "stream",
          "name": "stdout",
          "text": [
            "Archive:  /content/drive/MyDrive/Projet_schoolofdata/xtrain.zip\n"
          ]
        }
      ]
    },
    {
      "cell_type": "code",
      "source": [
        "import pickle, os"
      ],
      "metadata": {
        "id": "bTwn4NY2dZ79"
      },
      "id": "bTwn4NY2dZ79",
      "execution_count": 4,
      "outputs": []
    },
    {
      "cell_type": "code",
      "source": [
        "filepath = os.path.join('/content/X_train1')\n",
        "with open(filepath, 'rb') as f:\n",
        "    X_train1 = pickle.load(f)"
      ],
      "metadata": {
        "id": "amrqzQMP68qN"
      },
      "id": "amrqzQMP68qN",
      "execution_count": 5,
      "outputs": []
    },
    {
      "cell_type": "code",
      "source": [
        "filepath = os.path.join('/content/X_train2')\n",
        "with open(filepath, 'rb') as f:\n",
        "    X_train2 = pickle.load(f)"
      ],
      "metadata": {
        "id": "30g7dA9N7bqI"
      },
      "id": "30g7dA9N7bqI",
      "execution_count": 6,
      "outputs": []
    },
    {
      "cell_type": "code",
      "source": [
        "filepath = os.path.join('/content/X_train3')\n",
        "with open(filepath, 'rb') as f:\n",
        "    X_train3 = pickle.load(f)"
      ],
      "metadata": {
        "id": "8Y3q1HNp7eo2"
      },
      "id": "8Y3q1HNp7eo2",
      "execution_count": 7,
      "outputs": []
    },
    {
      "cell_type": "code",
      "source": [
        "X_train = np.concatenate((X_train1, X_train2, X_train3))"
      ],
      "metadata": {
        "id": "nW_nH7Xj7hwg"
      },
      "id": "nW_nH7Xj7hwg",
      "execution_count": 8,
      "outputs": []
    },
    {
      "cell_type": "code",
      "source": [
        "# X_test"
      ],
      "metadata": {
        "id": "tti1zx5Ukdx4"
      },
      "id": "tti1zx5Ukdx4",
      "execution_count": null,
      "outputs": []
    },
    {
      "cell_type": "code",
      "source": [
        "!unzip -u '/content/drive/MyDrive/Projet_schoolofdata/xtest.zip'"
      ],
      "metadata": {
        "colab": {
          "base_uri": "https://localhost:8080/"
        },
        "id": "voqI2SlIhXdn",
        "outputId": "b9a157e0-8c9e-4cd9-c58a-5af6e05c1850"
      },
      "id": "voqI2SlIhXdn",
      "execution_count": 6,
      "outputs": [
        {
          "output_type": "stream",
          "name": "stdout",
          "text": [
            "Archive:  /content/drive/MyDrive/Projet_schoolofdata/xtest.zip\n",
            "  inflating: X_test1                 \n",
            "  inflating: __MACOSX/._X_test1      \n",
            "  inflating: X_test2                 \n",
            "  inflating: __MACOSX/._X_test2      \n",
            "  inflating: X_test3                 \n",
            "  inflating: __MACOSX/._X_test3      \n"
          ]
        }
      ]
    },
    {
      "cell_type": "code",
      "source": [
        "filepath = os.path.join('/content/X_test1')\n",
        "with open(filepath, 'rb') as f:\n",
        "    X_test1 = pickle.load(f)"
      ],
      "metadata": {
        "id": "O2pw7at_hjNa"
      },
      "id": "O2pw7at_hjNa",
      "execution_count": 9,
      "outputs": []
    },
    {
      "cell_type": "code",
      "source": [
        "filepath = os.path.join('/content/X_test2')\n",
        "with open(filepath, 'rb') as f:\n",
        "    X_test2 = pickle.load(f)"
      ],
      "metadata": {
        "id": "XYX1BmUyhvdQ"
      },
      "id": "XYX1BmUyhvdQ",
      "execution_count": 10,
      "outputs": []
    },
    {
      "cell_type": "code",
      "source": [
        "filepath = os.path.join('/content/X_test3')\n",
        "with open(filepath, 'rb') as f:\n",
        "    X_test3 = pickle.load(f)"
      ],
      "metadata": {
        "id": "PSW7FgOlhwvz"
      },
      "id": "PSW7FgOlhwvz",
      "execution_count": 11,
      "outputs": []
    },
    {
      "cell_type": "code",
      "source": [
        "X_test = np.concatenate((X_test1, X_test2, X_test3))"
      ],
      "metadata": {
        "id": "Lg8kfUdXixi1"
      },
      "id": "Lg8kfUdXixi1",
      "execution_count": 12,
      "outputs": []
    },
    {
      "cell_type": "code",
      "source": [
        "X_train.shape, X_test.shape"
      ],
      "metadata": {
        "colab": {
          "base_uri": "https://localhost:8080/"
        },
        "id": "ZnpQ9XAdi7jO",
        "outputId": "dad97de9-8faf-4378-80fa-05bb363510d4"
      },
      "id": "ZnpQ9XAdi7jO",
      "execution_count": 16,
      "outputs": [
        {
          "output_type": "execute_result",
          "data": {
            "text/plain": [
              "((4828605, 80, 4), (1207152, 80, 4))"
            ]
          },
          "metadata": {},
          "execution_count": 16
        }
      ]
    },
    {
      "cell_type": "code",
      "source": [
        "# y_train"
      ],
      "metadata": {
        "id": "dnocxMbRiknD"
      },
      "id": "dnocxMbRiknD",
      "execution_count": null,
      "outputs": []
    },
    {
      "cell_type": "code",
      "source": [
        "filepath = os.path.join('/content/y_train1')\n",
        "with open(filepath, 'rb') as f:\n",
        "    y_train1 = pickle.load(f)"
      ],
      "metadata": {
        "id": "qzHDvnbqiYj7"
      },
      "id": "qzHDvnbqiYj7",
      "execution_count": 13,
      "outputs": []
    },
    {
      "cell_type": "code",
      "source": [
        "filepath = os.path.join('/content/y_train2')\n",
        "with open(filepath, 'rb') as f:\n",
        "    y_train2 = pickle.load(f)"
      ],
      "metadata": {
        "id": "_L3u0YBhiYYj"
      },
      "id": "_L3u0YBhiYYj",
      "execution_count": 18,
      "outputs": []
    },
    {
      "cell_type": "code",
      "source": [
        "filepath = os.path.join('/content/y_train3')\n",
        "with open(filepath, 'rb') as f:\n",
        "    y_train3 = pickle.load(f)"
      ],
      "metadata": {
        "id": "GJDIhF7riYNz"
      },
      "id": "GJDIhF7riYNz",
      "execution_count": 19,
      "outputs": []
    },
    {
      "cell_type": "code",
      "source": [
        "# y = pandas series -> utiliser pd.concat()\n",
        "y_train = pd.concat((y_train1, y_train2, y_train3))"
      ],
      "metadata": {
        "id": "yz6qgpOSijY6"
      },
      "id": "yz6qgpOSijY6",
      "execution_count": 20,
      "outputs": []
    },
    {
      "cell_type": "code",
      "source": [
        "# y_test"
      ],
      "metadata": {
        "id": "Dbd-ttjpim4d"
      },
      "id": "Dbd-ttjpim4d",
      "execution_count": null,
      "outputs": []
    },
    {
      "cell_type": "code",
      "source": [
        "filepath = os.path.join('/content/y_test1')\n",
        "with open(filepath, 'rb') as f:\n",
        "    y_test1 = pickle.load(f)"
      ],
      "metadata": {
        "id": "ux5fDvaVirZZ"
      },
      "id": "ux5fDvaVirZZ",
      "execution_count": 14,
      "outputs": []
    },
    {
      "cell_type": "code",
      "source": [
        "filepath = os.path.join('/content/y_test2')\n",
        "with open(filepath, 'rb') as f:\n",
        "    y_test2 = pickle.load(f)"
      ],
      "metadata": {
        "id": "hBl-u9R7irS4"
      },
      "id": "hBl-u9R7irS4",
      "execution_count": 15,
      "outputs": []
    },
    {
      "cell_type": "code",
      "source": [
        "filepath = os.path.join('/content/y_test3')\n",
        "with open(filepath, 'rb') as f:\n",
        "    y_test3 = pickle.load(f)"
      ],
      "metadata": {
        "id": "EfKTh04zirOe"
      },
      "id": "EfKTh04zirOe",
      "execution_count": 16,
      "outputs": []
    },
    {
      "cell_type": "code",
      "source": [
        "y_test = pd.concat((y_test1, y_test2, y_test3))"
      ],
      "metadata": {
        "id": "5L700j3QcEIn"
      },
      "id": "5L700j3QcEIn",
      "execution_count": 17,
      "outputs": []
    },
    {
      "cell_type": "code",
      "source": [
        "X_train.shape, X_test.shape, y_train.shape, y_test.shape"
      ],
      "metadata": {
        "colab": {
          "base_uri": "https://localhost:8080/"
        },
        "id": "bLR3xL9_cema",
        "outputId": "1bd71494-1323-41c4-c578-ea3916725ed1"
      },
      "id": "bLR3xL9_cema",
      "execution_count": 27,
      "outputs": [
        {
          "output_type": "execute_result",
          "data": {
            "text/plain": [
              "((4828605, 80, 4), (1207152, 80, 4), (4828605,), (1207152,))"
            ]
          },
          "metadata": {},
          "execution_count": 27
        }
      ]
    },
    {
      "cell_type": "markdown",
      "source": [
        "# LSTM #"
      ],
      "metadata": {
        "id": "dx192ww6moEz"
      },
      "id": "dx192ww6moEz"
    },
    {
      "cell_type": "markdown",
      "source": [
        "## test avec 2 couches cachées"
      ],
      "metadata": {
        "id": "dPuvEujVms2y"
      },
      "id": "dPuvEujVms2y"
    },
    {
      "cell_type": "code",
      "source": [
        "# ici architecture many to one : plusieurs séquences en entrée et on veut prédire une seule valeur"
      ],
      "metadata": {
        "id": "v5t5XWqaVErt"
      },
      "id": "v5t5XWqaVErt",
      "execution_count": null,
      "outputs": []
    },
    {
      "cell_type": "code",
      "source": [
        "from tensorflow.keras.models import Sequential\n",
        "from tensorflow.keras.layers import Dense, Embedding, LSTM\n",
        "\n",
        "# Define the model\n",
        "\n",
        "def my_RNN():\n",
        "\n",
        "    model = Sequential()\n",
        "\n",
        "    # We add two layers of RNN \n",
        "    model.add(LSTM(units=16, return_sequences=True, input_shape=(80, 4), activation='sigmoid'))\n",
        "    model.add(LSTM(units=16, return_sequences=False, activation='sigmoid'))\n",
        "    \n",
        "    # Finally we add a sigmoid\n",
        "    model.add(Dense(units=1, activation='linear'))\n",
        "\n",
        "    return model"
      ],
      "metadata": {
        "id": "3LBZxDeVWehn"
      },
      "id": "3LBZxDeVWehn",
      "execution_count": 21,
      "outputs": []
    },
    {
      "cell_type": "code",
      "source": [
        "model = my_RNN()"
      ],
      "metadata": {
        "colab": {
          "base_uri": "https://localhost:8080/"
        },
        "id": "sierctJ3W-IN",
        "outputId": "246cea36-e219-4c64-ee77-bfc496ecf289"
      },
      "id": "sierctJ3W-IN",
      "execution_count": 22,
      "outputs": [
        {
          "output_type": "stream",
          "name": "stdout",
          "text": [
            "WARNING:tensorflow:Layer lstm will not use cuDNN kernels since it doesn't meet the criteria. It will use a generic GPU kernel as fallback when running on GPU.\n",
            "WARNING:tensorflow:Layer lstm_1 will not use cuDNN kernels since it doesn't meet the criteria. It will use a generic GPU kernel as fallback when running on GPU.\n"
          ]
        }
      ]
    },
    {
      "cell_type": "code",
      "source": [
        "model.summary()"
      ],
      "metadata": {
        "colab": {
          "base_uri": "https://localhost:8080/"
        },
        "id": "VglgOCQ0XAXe",
        "outputId": "0bc8769d-3537-44fc-fe3f-bdbaff6af71b"
      },
      "id": "VglgOCQ0XAXe",
      "execution_count": 23,
      "outputs": [
        {
          "output_type": "stream",
          "name": "stdout",
          "text": [
            "Model: \"sequential\"\n",
            "_________________________________________________________________\n",
            " Layer (type)                Output Shape              Param #   \n",
            "=================================================================\n",
            " lstm (LSTM)                 (None, 80, 16)            1344      \n",
            "                                                                 \n",
            " lstm_1 (LSTM)               (None, 16)                2112      \n",
            "                                                                 \n",
            " dense (Dense)               (None, 1)                 17        \n",
            "                                                                 \n",
            "=================================================================\n",
            "Total params: 3,473\n",
            "Trainable params: 3,473\n",
            "Non-trainable params: 0\n",
            "_________________________________________________________________\n"
          ]
        }
      ]
    },
    {
      "cell_type": "code",
      "source": [
        "# Compile the model\n",
        "model.compile(optimizer='adam',\n",
        "              loss='mse')"
      ],
      "metadata": {
        "id": "7lPEPq0QXDZM"
      },
      "id": "7lPEPq0QXDZM",
      "execution_count": 24,
      "outputs": []
    },
    {
      "cell_type": "code",
      "source": [
        "%load_ext tensorboard"
      ],
      "metadata": {
        "id": "7sA3pZ03frUy"
      },
      "id": "7sA3pZ03frUy",
      "execution_count": 25,
      "outputs": []
    },
    {
      "cell_type": "code",
      "source": [
        "import tensorflow as tf\n",
        "import datetime, os"
      ],
      "metadata": {
        "id": "bUoUoX051m5R"
      },
      "id": "bUoUoX051m5R",
      "execution_count": 26,
      "outputs": []
    },
    {
      "cell_type": "code",
      "source": [
        "logdir = os.path.join(\"logs\", datetime.datetime.now().strftime(\"%Y%m%d-%H%M%S\"))"
      ],
      "metadata": {
        "id": "kPHkGpo11sBw"
      },
      "id": "kPHkGpo11sBw",
      "execution_count": 27,
      "outputs": []
    },
    {
      "cell_type": "code",
      "source": [
        "tensorboard_callback = tf.keras.callbacks.TensorBoard(logdir, histogram_freq=1)"
      ],
      "metadata": {
        "id": "-9tfSVel1vzV"
      },
      "id": "-9tfSVel1vzV",
      "execution_count": 28,
      "outputs": []
    },
    {
      "cell_type": "code",
      "source": [
        "callbacks = [EarlyStopping(monitor='val_loss', patience=5)]"
      ],
      "metadata": {
        "id": "N-C99u9IFJZw"
      },
      "id": "N-C99u9IFJZw",
      "execution_count": null,
      "outputs": []
    },
    {
      "cell_type": "code",
      "source": [
        "# Train the model\n",
        "model.fit(x=X_train, y=y_train, validation_data=(X_test, y_test), epochs=10, batch_size=128, callbacks= tensorboard_callback)"
      ],
      "metadata": {
        "colab": {
          "base_uri": "https://localhost:8080/"
        },
        "id": "kN-URCG4XFnH",
        "outputId": "7c1b383e-29a5-43a7-af31-e575b6becc20"
      },
      "id": "kN-URCG4XFnH",
      "execution_count": null,
      "outputs": [
        {
          "output_type": "stream",
          "name": "stdout",
          "text": [
            "Epoch 1/10\n",
            "37724/37724 [==============================] - 7091s 188ms/step - loss: 13.0849 - val_loss: 2.3308\n",
            "Epoch 2/10\n",
            "37724/37724 [==============================] - 6895s 183ms/step - loss: 2.2430 - val_loss: 2.0846\n",
            "Epoch 3/10\n",
            "37724/37724 [==============================] - 6887s 183ms/step - loss: 2.0306 - val_loss: 1.9432\n",
            "Epoch 4/10\n",
            "37724/37724 [==============================] - 6866s 182ms/step - loss: 1.8963 - val_loss: 1.8559\n",
            "Epoch 5/10\n",
            "37724/37724 [==============================] - 6870s 182ms/step - loss: 1.8047 - val_loss: 1.7330\n",
            "Epoch 6/10\n",
            "37724/37724 [==============================] - 6863s 182ms/step - loss: 1.7421 - val_loss: 1.6667\n",
            "Epoch 7/10\n",
            "37724/37724 [==============================] - 6874s 182ms/step - loss: 1.6927 - val_loss: 1.7134\n",
            "Epoch 8/10\n",
            "37724/37724 [==============================] - 6893s 183ms/step - loss: 1.6544 - val_loss: 1.6115\n",
            "Epoch 9/10\n",
            "15617/37724 [===========>..................] - ETA: 1:05:57 - loss: 1.6208"
          ]
        }
      ]
    },
    {
      "cell_type": "code",
      "source": [
        "filepath = os.path.join('/content/drive/MyDrive/Projet_schoolofdata/', 'model')"
      ],
      "metadata": {
        "id": "wDnmxSbYeM-_"
      },
      "id": "wDnmxSbYeM-_",
      "execution_count": 15,
      "outputs": []
    },
    {
      "cell_type": "code",
      "source": [
        "with open(filepath, 'wb') as f:\n",
        "  pickle.dump(model , f)"
      ],
      "metadata": {
        "colab": {
          "base_uri": "https://localhost:8080/"
        },
        "id": "4_75ELzSeUPo",
        "outputId": "1763b2d3-0e58-491b-d059-63a7af5180b6"
      },
      "id": "4_75ELzSeUPo",
      "execution_count": 16,
      "outputs": [
        {
          "output_type": "stream",
          "name": "stdout",
          "text": [
            "INFO:tensorflow:Assets written to: ram://4732c9db-218d-4a31-b287-a0bc71ed0ee0/assets\n"
          ]
        },
        {
          "output_type": "stream",
          "name": "stderr",
          "text": [
            "WARNING:absl:<keras.layers.recurrent.LSTMCell object at 0x7f2996c8ae10> has the same name 'LSTMCell' as a built-in Keras object. Consider renaming <class 'keras.layers.recurrent.LSTMCell'> to avoid naming conflicts when loading with `tf.keras.models.load_model`. If renaming is not possible, pass the object in the `custom_objects` parameter of the load function.\n",
            "WARNING:absl:<keras.layers.recurrent.LSTMCell object at 0x7f2983827950> has the same name 'LSTMCell' as a built-in Keras object. Consider renaming <class 'keras.layers.recurrent.LSTMCell'> to avoid naming conflicts when loading with `tf.keras.models.load_model`. If renaming is not possible, pass the object in the `custom_objects` parameter of the load function.\n"
          ]
        }
      ]
    },
    {
      "cell_type": "code",
      "source": [
        "y_pred1 = model.predict(X_test1)"
      ],
      "metadata": {
        "id": "ICU-K9R1XI0m"
      },
      "id": "ICU-K9R1XI0m",
      "execution_count": 17,
      "outputs": []
    },
    {
      "cell_type": "code",
      "source": [
        "y_test1.shape"
      ],
      "metadata": {
        "colab": {
          "base_uri": "https://localhost:8080/"
        },
        "id": "3oeLAXcSzkiX",
        "outputId": "587a29d0-5068-42b4-89aa-08713d6ad457"
      },
      "id": "3oeLAXcSzkiX",
      "execution_count": 48,
      "outputs": [
        {
          "output_type": "execute_result",
          "data": {
            "text/plain": [
              "(399984,)"
            ]
          },
          "metadata": {},
          "execution_count": 48
        }
      ]
    },
    {
      "cell_type": "code",
      "source": [
        "y_pred1.shape"
      ],
      "metadata": {
        "colab": {
          "base_uri": "https://localhost:8080/"
        },
        "id": "-xTdGt0HzgDN",
        "outputId": "ded92e3a-623e-4f05-a790-368eb705c3ea"
      },
      "id": "-xTdGt0HzgDN",
      "execution_count": 49,
      "outputs": [
        {
          "output_type": "execute_result",
          "data": {
            "text/plain": [
              "(399984, 1)"
            ]
          },
          "metadata": {},
          "execution_count": 49
        }
      ]
    },
    {
      "cell_type": "code",
      "source": [
        "filepath = os.path.join('/content/drive/MyDrive/Projet_schoolofdata/', 'y_pred1')"
      ],
      "metadata": {
        "id": "vv2IkV2SutRN"
      },
      "id": "vv2IkV2SutRN",
      "execution_count": 43,
      "outputs": []
    },
    {
      "cell_type": "code",
      "source": [
        "with open(filepath, 'wb') as f:\n",
        "  pickle.dump(y_pred1 , f)"
      ],
      "metadata": {
        "id": "iV5vX6lSuwPE"
      },
      "id": "iV5vX6lSuwPE",
      "execution_count": 44,
      "outputs": []
    },
    {
      "cell_type": "code",
      "source": [
        "# TODO: Plot the results\n",
        "plt.figure(figsize=(25,10))\n",
        "plt.plot(y_test1.values) \n",
        "plt.plot(y_pred1.flatten(), color='green')\n",
        "plt.show()"
      ],
      "metadata": {
        "colab": {
          "base_uri": "https://localhost:8080/",
          "height": 592
        },
        "id": "SKquOAygXNL_",
        "outputId": "cd445963-d806-4af9-b2ab-797783bd1271"
      },
      "id": "SKquOAygXNL_",
      "execution_count": 18,
      "outputs": [
        {
          "output_type": "display_data",
          "data": {
            "text/plain": [
              "<Figure size 1800x720 with 1 Axes>"
            ],
            "image/png": "[encoded data removed]"
          },
          "metadata": {
            "needs_background": "light"
          }
        }
      ]
    },
    {
      "cell_type": "code",
      "source": [
        "loss = model.evaluate(X_test1, y_test1, verbose=0)\n",
        "print('loss is:', loss)"
      ],
      "metadata": {
        "colab": {
          "base_uri": "https://localhost:8080/"
        },
        "id": "qNgqtssQGVQ7",
        "outputId": "686ea8f1-a700-4c6c-8fee-657151b6b2ce"
      },
      "id": "qNgqtssQGVQ7",
      "execution_count": 19,
      "outputs": [
        {
          "output_type": "stream",
          "name": "stdout",
          "text": [
            "loss is: 1.7294012308120728\n"
          ]
        }
      ]
    },
    {
      "cell_type": "code",
      "source": [
        "from sklearn.metrics import mean_squared_error\n",
        "mse = mean_squared_error(y_test, y_pred)\n",
        "print(mse)"
      ],
      "metadata": {
        "colab": {
          "base_uri": "https://localhost:8080/"
        },
        "id": "C5MyDgSlHYo4",
        "outputId": "32787620-41a8-4343-e5c3-af62e759a557"
      },
      "id": "C5MyDgSlHYo4",
      "execution_count": 33,
      "outputs": [
        {
          "output_type": "stream",
          "name": "stdout",
          "text": [
            "1.5657413121980126\n"
          ]
        }
      ]
    },
    {
      "cell_type": "code",
      "source": [
        "from sklearn.metrics import mean_absolute_error\n",
        "mae = mean_absolute_error(y_test1, y_pred1)\n",
        "print(mae)"
      ],
      "metadata": {
        "colab": {
          "base_uri": "https://localhost:8080/"
        },
        "id": "AQTEe2fTHcxD",
        "outputId": "2f33c9e7-e003-4e11-94d4-761ba1508e05"
      },
      "id": "AQTEe2fTHcxD",
      "execution_count": 20,
      "outputs": [
        {
          "output_type": "stream",
          "name": "stdout",
          "text": [
            "0.7866184506313643\n"
          ]
        }
      ]
    },
    {
      "cell_type": "code",
      "source": [
        "from sklearn.metrics import r2_score\n",
        "r2 = r2_score(y_test, y_pred)\n",
        "print(r2)"
      ],
      "metadata": {
        "colab": {
          "base_uri": "https://localhost:8080/"
        },
        "id": "82Xf5ap4H0Rt",
        "outputId": "dc3d460d-0dc1-45b0-feb6-fc32c91a2526"
      },
      "id": "82Xf5ap4H0Rt",
      "execution_count": 35,
      "outputs": [
        {
          "output_type": "stream",
          "name": "stdout",
          "text": [
            "0.9759056033883349\n"
          ]
        }
      ]
    },
    {
      "cell_type": "code",
      "source": [
        "plt.figure(figsize=(25,10))\n",
        "plt.plot(y_test[:81].values, label='true') \n",
        "plt.plot(y_pred[:81].flatten(), color='green', label='predicted')\n",
        "plt.title('Breath test #1')\n",
        "plt.xlabel('time step')\n",
        "plt.ylabel('pressure')\n",
        "plt.legend()\n",
        "plt.show()"
      ],
      "metadata": {
        "colab": {
          "base_uri": "https://localhost:8080/",
          "height": 621
        },
        "id": "ENB1_AeYkEcX",
        "outputId": "ffc767c4-cc19-4fd4-9339-ac202f49ba6d"
      },
      "id": "ENB1_AeYkEcX",
      "execution_count": 37,
      "outputs": [
        {
          "output_type": "display_data",
          "data": {
            "text/plain": [
              "<Figure size 1800x720 with 1 Axes>"
            ],
            "image/png": "[encoded data removed]"
          },
          "metadata": {
            "needs_background": "light"
          }
        }
      ]
    },
    {
      "cell_type": "code",
      "source": [
        "plt.figure(figsize=(25,10))\n",
        "plt.plot(y_test[80:161].values, label='true') \n",
        "plt.plot(y_pred[80:161].flatten(), color='green', label='predicted')\n",
        "plt.title('Breath test #2')\n",
        "plt.xlabel('time step')\n",
        "plt.ylabel('pressure')\n",
        "plt.legend()\n",
        "plt.show()"
      ],
      "metadata": {
        "colab": {
          "base_uri": "https://localhost:8080/",
          "height": 621
        },
        "id": "WyK0jNqcloh4",
        "outputId": "5f9fde19-189f-4e43-a3cd-cab1be741f43"
      },
      "id": "WyK0jNqcloh4",
      "execution_count": 38,
      "outputs": [
        {
          "output_type": "display_data",
          "data": {
            "text/plain": [
              "<Figure size 1800x720 with 1 Axes>"
            ],
            "image/png": "[encoded data removed]"
          },
          "metadata": {
            "needs_background": "light"
          }
        }
      ]
    },
    {
      "cell_type": "code",
      "source": [
        "plt.figure(figsize=(25,10))\n",
        "plt.plot(y_test[160:241].values, label='true') \n",
        "plt.plot(y_pred[160:241].flatten(), color='green', label='predicted')\n",
        "plt.title('Breath test #3')\n",
        "plt.xlabel('time step')\n",
        "plt.ylabel('pressure')\n",
        "plt.legend()\n",
        "plt.show()"
      ],
      "metadata": {
        "colab": {
          "base_uri": "https://localhost:8080/",
          "height": 621
        },
        "id": "a6gYctHql1aF",
        "outputId": "d1fd47bc-60b8-436a-d2d6-e31b104f0d6c"
      },
      "id": "a6gYctHql1aF",
      "execution_count": 39,
      "outputs": [
        {
          "output_type": "display_data",
          "data": {
            "text/plain": [
              "<Figure size 1800x720 with 1 Axes>"
            ],
            "image/png": "[encoded data removed]"
          },
          "metadata": {
            "needs_background": "light"
          }
        }
      ]
    },
    {
      "cell_type": "code",
      "source": [
        "X_test1[0]"
      ],
      "metadata": {
        "colab": {
          "base_uri": "https://localhost:8080/"
        },
        "id": "KA-96BXlhjVk",
        "outputId": "cacd5a53-b229-4765-8e53-3724f864ea3e"
      },
      "id": "KA-96BXlhjVk",
      "execution_count": 24,
      "outputs": [
        {
          "output_type": "execute_result",
          "data": {
            "text/plain": [
              "array([[ 1.19074974, -0.93809843, -0.04465497, -1.2790214 ],\n",
              "       [ 1.19075551, -0.93810302, -0.21675765, -1.27902819],\n",
              "       [ 1.19076127, -0.93810536, -0.3886628 , -1.27902819],\n",
              "       [ 1.19076703, -0.9381077 , -0.54450599, -1.27902819],\n",
              "       [ 1.19077279, -0.93811004, -0.54450686, -1.27902819],\n",
              "       [ 1.19077855, -0.93811238, -0.54450795, -1.27902819],\n",
              "       [ 1.19078431, -0.93811472, -0.54450912, -1.27902819],\n",
              "       [ 1.19079008, -0.93811705, -0.54451032, -1.27902819],\n",
              "       [ 1.19079584, -0.93811939, -0.54451151, -1.27902819],\n",
              "       [ 1.1908016 , -0.93812173, -0.54451267, -1.27902819],\n",
              "       [ 1.19080736, -0.93812407, -0.54451375, -1.27902819],\n",
              "       [ 1.19081312, -0.93812641, -0.54451485, -1.27902819],\n",
              "       [ 1.19081889, -0.93812875, -0.54451601, -1.27902819],\n",
              "       [ 1.19082465, -0.93813109, -0.5445171 , -1.27902819],\n",
              "       [ 1.19083041, -0.93813343, -0.54451817, -1.27902819],\n",
              "       [ 1.19083617, -0.93813577, -0.54451922, -1.27902819],\n",
              "       [ 1.19084193, -0.9381381 , -0.54452025,  0.78184359],\n",
              "       [ 1.1908477 , -0.93814044, -0.54452125,  0.78184775],\n",
              "       [ 1.19085346, -0.93814278, -0.54452219,  0.7818519 ],\n",
              "       [ 1.19085922, -0.93814512, -0.54452302,  0.78185605],\n",
              "       [ 1.19086498, -0.93814746, -0.5445238 ,  0.7818602 ],\n",
              "       [ 1.19087074, -0.9381498 , -0.5445245 ,  0.78186435],\n",
              "       [ 1.19087651, -0.93815214, -0.54452508,  0.7818685 ],\n",
              "       [ 1.19088227, -0.93815448, -0.54452561,  0.78187265],\n",
              "       [ 1.19088803, -0.93815682, -0.54452607,  0.7818768 ],\n",
              "       [ 1.19089379, -0.93815916, -0.54452645,  0.78188095],\n",
              "       [ 1.19089956, -0.93816149, -0.54452679,  0.78188511],\n",
              "       [ 1.19090532, -0.93816383, -0.54452704,  0.78188926],\n",
              "       [ 1.19091108, -0.93816617, -0.54452721,  0.78189341],\n",
              "       [ 1.19091685, -0.93816851, -0.54452734,  0.78189756],\n",
              "       [ 1.19092261, -0.93817085, -0.54452742,  0.78190171],\n",
              "       [ 1.19092837, -0.93817319, -0.54452745,  0.78190586],\n",
              "       [ 1.19093413, -0.93817553, -0.51120055,  0.78190586],\n",
              "       [ 1.1909399 , -0.93817787, -0.46198941,  0.78190586],\n",
              "       [ 1.19094566, -0.93818021, -0.41991343,  0.78190586],\n",
              "       [ 1.19095142, -0.93818255, -0.38400055,  0.78190586],\n",
              "       [ 1.19095718, -0.93818488, -0.35244371,  0.78190586],\n",
              "       [ 1.19096295, -0.93818722, -0.326354  ,  0.78190586],\n",
              "       [ 1.19096871, -0.93818956, -0.30417725,  0.78190586],\n",
              "       [ 1.19097447, -0.9381919 , -0.2851782 ,  0.78190586],\n",
              "       [ 1.19098024, -0.93819424, -0.26846399,  0.78190586],\n",
              "       [ 1.190986  , -0.93819658, -0.2547342 ,  0.78190586],\n",
              "       [ 1.19099176, -0.93819892, -0.2430007 ,  0.78190586],\n",
              "       [ 1.19099753, -0.93820126, -0.23292052,  0.78190586],\n",
              "       [ 1.19100329, -0.9382036 , -0.22416229,  0.78190586],\n",
              "       [ 1.19100905, -0.93820594, -0.21692169,  0.78190586],\n",
              "       [ 1.19101482, -0.93820828, -0.21073199,  0.78190586],\n",
              "       [ 1.19102058, -0.93821062, -0.20544684,  0.78190586],\n",
              "       [ 1.19102634, -0.93821295, -0.20081335,  0.78190586],\n",
              "       [ 1.19103211, -0.93821529, -0.19697929,  0.78190586],\n",
              "       [ 1.19103787, -0.93821763, -0.19369823,  0.78190586],\n",
              "       [ 1.19104363, -0.93821997, -0.19090748,  0.78190586],\n",
              "       [ 1.1910494 , -0.93822231, -0.18846907,  0.78190586],\n",
              "       [ 1.19105516, -0.93822465, -0.18643467,  0.78190586],\n",
              "       [ 1.19106092, -0.93822699, -0.18470312,  0.78190586],\n",
              "       [ 1.19106669, -0.93822933, -0.18322296,  0.78190586],\n",
              "       [ 1.19107245, -0.93823167, -0.18192958,  0.78190586],\n",
              "       [ 1.19107822, -0.93823401, -0.18085724,  0.78190586],\n",
              "       [ 1.19108398, -0.93823635, -0.17994297,  0.78190586],\n",
              "       [ 1.19108974, -0.93823869, -0.17916123,  0.78190586],\n",
              "       [ 1.19109551, -0.93824102, -0.1784755 ,  0.78190586],\n",
              "       [ 1.19110127, -0.93824336, -0.17790855,  0.78190586],\n",
              "       [ 1.19110703, -0.9382457 , -0.17742422,  0.78190586],\n",
              "       [ 1.1911128 , -0.93824804, -0.17701092,  0.78190586],\n",
              "       [ 1.19111856, -0.93825038, -0.17664793,  0.78190586],\n",
              "       [ 1.19112433,  1.3904603 , -0.50923728, -1.27892634],\n",
              "       [ 1.19113009,  1.39046781,  3.15611521, -1.27893313],\n",
              "       [ 1.19113586,  1.39047532,  2.60267136, -1.27893992],\n",
              "       [ 1.19114162,  1.39048282, -0.5445099 , -1.27894671],\n",
              "       [ 1.19114738,  1.39049033, -0.54451099, -1.2789535 ],\n",
              "       [ 1.19115315,  1.39049784,  1.44742201, -1.27896029],\n",
              "       [ 1.19115891,  1.39050535,  2.23235707, -1.27896708],\n",
              "       [ 1.19116468,  1.39051285, -0.20608842, -1.27897387],\n",
              "       [ 1.19117044,  1.39052036, -0.54450683, -1.27898066],\n",
              "       [ 1.19117621,  1.39052787,  0.17307456, -1.27898745],\n",
              "       [ 1.19118197,  1.39053537,  1.53242524, -1.27899424],\n",
              "       [ 1.19118773,  1.39054288,  0.31779247, -1.27900103],\n",
              "       [ 1.1911935 ,  1.39055039, -0.54450317, -1.27900782],\n",
              "       [ 1.19119926,  1.3905579 , -0.19404171, -1.27901461],\n",
              "       [ 1.19120503,  1.3905654 ,  1.3794503 , -1.2790214 ]])"
            ]
          },
          "metadata": {},
          "execution_count": 24
        }
      ]
    },
    {
      "cell_type": "code",
      "source": [
        "# créer df avec valeurs test et y test y pred\n",
        "dfX = pd.DataFrame(X_test1.reshape(399984*80,4))"
      ],
      "metadata": {
        "id": "mSBOgM-BvFNT"
      },
      "id": "mSBOgM-BvFNT",
      "execution_count": 39,
      "outputs": []
    },
    {
      "cell_type": "code",
      "source": [
        "dfX.head()"
      ],
      "metadata": {
        "colab": {
          "base_uri": "https://localhost:8080/",
          "height": 206
        },
        "id": "AXomwBhdj7BJ",
        "outputId": "a8bb1994-3044-414a-8269-ebc53c8595cc"
      },
      "id": "AXomwBhdj7BJ",
      "execution_count": 40,
      "outputs": [
        {
          "output_type": "execute_result",
          "data": {
            "text/plain": [
              "          0         1         2         3\n",
              "0  1.190750 -0.938098 -0.044655 -1.279021\n",
              "1  1.190756 -0.938103 -0.216758 -1.279028\n",
              "2  1.190761 -0.938105 -0.388663 -1.279028\n",
              "3  1.190767 -0.938108 -0.544506 -1.279028\n",
              "4  1.190773 -0.938110 -0.544507 -1.279028"
            ],
            "text/html": [
              "\n",
              "  <div id=\"df-eb37dee4-5a1e-413c-b627-aa5097ea52a7\">\n",
              "    <div class=\"colab-df-container\">\n",
              "      <div>\n",
              "<style scoped>\n",
              "    .dataframe tbody tr th:only-of-type {\n",
              "        vertical-align: middle;\n",
              "    }\n",
              "\n",
              "    .dataframe tbody tr th {\n",
              "        vertical-align: top;\n",
              "    }\n",
              "\n",
              "    .dataframe thead th {\n",
              "        text-align: right;\n",
              "    }\n",
              "</style>\n",
              "<table border=\"1\" class=\"dataframe\">\n",
              "  <thead>\n",
              "    <tr style=\"text-align: right;\">\n",
              "      <th></th>\n",
              "      <th>0</th>\n",
              "      <th>1</th>\n",
              "      <th>2</th>\n",
              "      <th>3</th>\n",
              "    </tr>\n",
              "  </thead>\n",
              "  <tbody>\n",
              "    <tr>\n",
              "      <th>0</th>\n",
              "      <td>1.190750</td>\n",
              "      <td>-0.938098</td>\n",
              "      <td>-0.044655</td>\n",
              "      <td>-1.279021</td>\n",
              "    </tr>\n",
              "    <tr>\n",
              "      <th>1</th>\n",
              "      <td>1.190756</td>\n",
              "      <td>-0.938103</td>\n",
              "      <td>-0.216758</td>\n",
              "      <td>-1.279028</td>\n",
              "    </tr>\n",
              "    <tr>\n",
              "      <th>2</th>\n",
              "      <td>1.190761</td>\n",
              "      <td>-0.938105</td>\n",
              "      <td>-0.388663</td>\n",
              "      <td>-1.279028</td>\n",
              "    </tr>\n",
              "    <tr>\n",
              "      <th>3</th>\n",
              "      <td>1.190767</td>\n",
              "      <td>-0.938108</td>\n",
              "      <td>-0.544506</td>\n",
              "      <td>-1.279028</td>\n",
              "    </tr>\n",
              "    <tr>\n",
              "      <th>4</th>\n",
              "      <td>1.190773</td>\n",
              "      <td>-0.938110</td>\n",
              "      <td>-0.544507</td>\n",
              "      <td>-1.279028</td>\n",
              "    </tr>\n",
              "  </tbody>\n",
              "</table>\n",
              "</div>\n",
              "      <button class=\"colab-df-convert\" onclick=\"convertToInteractive('df-eb37dee4-5a1e-413c-b627-aa5097ea52a7')\"\n",
              "              title=\"Convert this dataframe to an interactive table.\"\n",
              "              style=\"display:none;\">\n",
              "        \n",
              "  <svg xmlns=\"http://www.w3.org/2000/svg\" height=\"24px\"viewBox=\"0 0 24 24\"\n",
              "       width=\"24px\">\n",
              "    <path d=\"M0 0h24v24H0V0z\" fill=\"none\"/>\n",
              "    <path d=\"M18.56 5.44l.94 2.06.94-2.06 2.06-.94-2.06-.94-.94-2.06-.94 2.06-2.06.94zm-11 1L8.5 8.5l.94-2.06 2.06-.94-2.06-.94L8.5 2.5l-.94 2.06-2.06.94zm10 10l.94 2.06.94-2.06 2.06-.94-2.06-.94-.94-2.06-.94 2.06-2.06.94z\"/><path d=\"M17.41 7.96l-1.37-1.37c-.4-.4-.92-.59-1.43-.59-.52 0-1.04.2-1.43.59L10.3 9.45l-7.72 7.72c-.78.78-.78 2.05 0 2.83L4 21.41c.39.39.9.59 1.41.59.51 0 1.02-.2 1.41-.59l7.78-7.78 2.81-2.81c.8-.78.8-2.07 0-2.86zM5.41 20L4 18.59l7.72-7.72 1.47 1.35L5.41 20z\"/>\n",
              "  </svg>\n",
              "      </button>\n",
              "      \n",
              "  <style>\n",
              "    .colab-df-container {\n",
              "      display:flex;\n",
              "      flex-wrap:wrap;\n",
              "      gap: 12px;\n",
              "    }\n",
              "\n",
              "    .colab-df-convert {\n",
              "      background-color: #E8F0FE;\n",
              "      border: none;\n",
              "      border-radius: 50%;\n",
              "      cursor: pointer;\n",
              "      display: none;\n",
              "      fill: #1967D2;\n",
              "      height: 32px;\n",
              "      padding: 0 0 0 0;\n",
              "      width: 32px;\n",
              "    }\n",
              "\n",
              "    .colab-df-convert:hover {\n",
              "      background-color: #E2EBFA;\n",
              "      box-shadow: 0px 1px 2px rgba(60, 64, 67, 0.3), 0px 1px 3px 1px rgba(60, 64, 67, 0.15);\n",
              "      fill: #174EA6;\n",
              "    }\n",
              "\n",
              "    [theme=dark] .colab-df-convert {\n",
              "      background-color: #3B4455;\n",
              "      fill: #D2E3FC;\n",
              "    }\n",
              "\n",
              "    [theme=dark] .colab-df-convert:hover {\n",
              "      background-color: #434B5C;\n",
              "      box-shadow: 0px 1px 3px 1px rgba(0, 0, 0, 0.15);\n",
              "      filter: drop-shadow(0px 1px 2px rgba(0, 0, 0, 0.3));\n",
              "      fill: #FFFFFF;\n",
              "    }\n",
              "  </style>\n",
              "\n",
              "      <script>\n",
              "        const buttonEl =\n",
              "          document.querySelector('#df-eb37dee4-5a1e-413c-b627-aa5097ea52a7 button.colab-df-convert');\n",
              "        buttonEl.style.display =\n",
              "          google.colab.kernel.accessAllowed ? 'block' : 'none';\n",
              "\n",
              "        async function convertToInteractive(key) {\n",
              "          const element = document.querySelector('#df-eb37dee4-5a1e-413c-b627-aa5097ea52a7');\n",
              "          const dataTable =\n",
              "            await google.colab.kernel.invokeFunction('convertToInteractive',\n",
              "                                                     [key], {});\n",
              "          if (!dataTable) return;\n",
              "\n",
              "          const docLinkHtml = 'Like what you see? Visit the ' +\n",
              "            '<a target=\"_blank\" href=https://colab.research.google.com/notebooks/data_table.ipynb>data table notebook</a>'\n",
              "            + ' to learn more about interactive tables.';\n",
              "          element.innerHTML = '';\n",
              "          dataTable['output_type'] = 'display_data';\n",
              "          await google.colab.output.renderOutput(dataTable, element);\n",
              "          const docLink = document.createElement('div');\n",
              "          docLink.innerHTML = docLinkHtml;\n",
              "          element.appendChild(docLink);\n",
              "        }\n",
              "      </script>\n",
              "    </div>\n",
              "  </div>\n",
              "  "
            ]
          },
          "metadata": {},
          "execution_count": 40
        }
      ]
    },
    {
      "cell_type": "code",
      "source": [
        "dfX.shape"
      ],
      "metadata": {
        "colab": {
          "base_uri": "https://localhost:8080/"
        },
        "id": "JG-6w6GVkFhP",
        "outputId": "579ad6ca-6e21-4954-afbe-c0749dd36640"
      },
      "id": "JG-6w6GVkFhP",
      "execution_count": 42,
      "outputs": [
        {
          "output_type": "execute_result",
          "data": {
            "text/plain": [
              "(31998720, 4)"
            ]
          },
          "metadata": {},
          "execution_count": 42
        }
      ]
    },
    {
      "cell_type": "code",
      "source": [
        ""
      ],
      "metadata": {
        "id": "UyMvPm7_kEtK"
      },
      "id": "UyMvPm7_kEtK",
      "execution_count": null,
      "outputs": []
    },
    {
      "cell_type": "code",
      "source": [
        "dfytest = pd.DataFrame(y_test1)\n",
        "dfypred = pd.DataFrame(y_pred1)"
      ],
      "metadata": {
        "id": "fZAhltKezJSt"
      },
      "id": "fZAhltKezJSt",
      "execution_count": 41,
      "outputs": []
    },
    {
      "cell_type": "code",
      "source": [
        "dfytest.shape"
      ],
      "metadata": {
        "colab": {
          "base_uri": "https://localhost:8080/"
        },
        "id": "UzlViQQviYWX",
        "outputId": "778b0f6d-888a-4f44-9989-af34c90dffdf"
      },
      "id": "UzlViQQviYWX",
      "execution_count": 34,
      "outputs": [
        {
          "output_type": "execute_result",
          "data": {
            "text/plain": [
              "(399984, 1)"
            ]
          },
          "metadata": {},
          "execution_count": 34
        }
      ]
    },
    {
      "cell_type": "code",
      "source": [
        "dfytest.head()"
      ],
      "metadata": {
        "colab": {
          "base_uri": "https://localhost:8080/",
          "height": 206
        },
        "id": "oMHr8yKLian3",
        "outputId": "341283ab-0c41-4e32-cb0c-1f7a8ae08e71"
      },
      "id": "oMHr8yKLian3",
      "execution_count": 35,
      "outputs": [
        {
          "output_type": "execute_result",
          "data": {
            "text/plain": [
              "          pressure\n",
              "1600016  24.326956\n",
              "1600017  21.163359\n",
              "1600018  14.133145\n",
              "1600019  15.820396\n",
              "1600020  23.764539"
            ],
            "text/html": [
              "\n",
              "  <div id=\"df-251a8080-eb95-4e6f-b134-6f731c16f4e6\">\n",
              "    <div class=\"colab-df-container\">\n",
              "      <div>\n",
              "<style scoped>\n",
              "    .dataframe tbody tr th:only-of-type {\n",
              "        vertical-align: middle;\n",
              "    }\n",
              "\n",
              "    .dataframe tbody tr th {\n",
              "        vertical-align: top;\n",
              "    }\n",
              "\n",
              "    .dataframe thead th {\n",
              "        text-align: right;\n",
              "    }\n",
              "</style>\n",
              "<table border=\"1\" class=\"dataframe\">\n",
              "  <thead>\n",
              "    <tr style=\"text-align: right;\">\n",
              "      <th></th>\n",
              "      <th>pressure</th>\n",
              "    </tr>\n",
              "  </thead>\n",
              "  <tbody>\n",
              "    <tr>\n",
              "      <th>1600016</th>\n",
              "      <td>24.326956</td>\n",
              "    </tr>\n",
              "    <tr>\n",
              "      <th>1600017</th>\n",
              "      <td>21.163359</td>\n",
              "    </tr>\n",
              "    <tr>\n",
              "      <th>1600018</th>\n",
              "      <td>14.133145</td>\n",
              "    </tr>\n",
              "    <tr>\n",
              "      <th>1600019</th>\n",
              "      <td>15.820396</td>\n",
              "    </tr>\n",
              "    <tr>\n",
              "      <th>1600020</th>\n",
              "      <td>23.764539</td>\n",
              "    </tr>\n",
              "  </tbody>\n",
              "</table>\n",
              "</div>\n",
              "      <button class=\"colab-df-convert\" onclick=\"convertToInteractive('df-251a8080-eb95-4e6f-b134-6f731c16f4e6')\"\n",
              "              title=\"Convert this dataframe to an interactive table.\"\n",
              "              style=\"display:none;\">\n",
              "        \n",
              "  <svg xmlns=\"http://www.w3.org/2000/svg\" height=\"24px\"viewBox=\"0 0 24 24\"\n",
              "       width=\"24px\">\n",
              "    <path d=\"M0 0h24v24H0V0z\" fill=\"none\"/>\n",
              "    <path d=\"M18.56 5.44l.94 2.06.94-2.06 2.06-.94-2.06-.94-.94-2.06-.94 2.06-2.06.94zm-11 1L8.5 8.5l.94-2.06 2.06-.94-2.06-.94L8.5 2.5l-.94 2.06-2.06.94zm10 10l.94 2.06.94-2.06 2.06-.94-2.06-.94-.94-2.06-.94 2.06-2.06.94z\"/><path d=\"M17.41 7.96l-1.37-1.37c-.4-.4-.92-.59-1.43-.59-.52 0-1.04.2-1.43.59L10.3 9.45l-7.72 7.72c-.78.78-.78 2.05 0 2.83L4 21.41c.39.39.9.59 1.41.59.51 0 1.02-.2 1.41-.59l7.78-7.78 2.81-2.81c.8-.78.8-2.07 0-2.86zM5.41 20L4 18.59l7.72-7.72 1.47 1.35L5.41 20z\"/>\n",
              "  </svg>\n",
              "      </button>\n",
              "      \n",
              "  <style>\n",
              "    .colab-df-container {\n",
              "      display:flex;\n",
              "      flex-wrap:wrap;\n",
              "      gap: 12px;\n",
              "    }\n",
              "\n",
              "    .colab-df-convert {\n",
              "      background-color: #E8F0FE;\n",
              "      border: none;\n",
              "      border-radius: 50%;\n",
              "      cursor: pointer;\n",
              "      display: none;\n",
              "      fill: #1967D2;\n",
              "      height: 32px;\n",
              "      padding: 0 0 0 0;\n",
              "      width: 32px;\n",
              "    }\n",
              "\n",
              "    .colab-df-convert:hover {\n",
              "      background-color: #E2EBFA;\n",
              "      box-shadow: 0px 1px 2px rgba(60, 64, 67, 0.3), 0px 1px 3px 1px rgba(60, 64, 67, 0.15);\n",
              "      fill: #174EA6;\n",
              "    }\n",
              "\n",
              "    [theme=dark] .colab-df-convert {\n",
              "      background-color: #3B4455;\n",
              "      fill: #D2E3FC;\n",
              "    }\n",
              "\n",
              "    [theme=dark] .colab-df-convert:hover {\n",
              "      background-color: #434B5C;\n",
              "      box-shadow: 0px 1px 3px 1px rgba(0, 0, 0, 0.15);\n",
              "      filter: drop-shadow(0px 1px 2px rgba(0, 0, 0, 0.3));\n",
              "      fill: #FFFFFF;\n",
              "    }\n",
              "  </style>\n",
              "\n",
              "      <script>\n",
              "        const buttonEl =\n",
              "          document.querySelector('#df-251a8080-eb95-4e6f-b134-6f731c16f4e6 button.colab-df-convert');\n",
              "        buttonEl.style.display =\n",
              "          google.colab.kernel.accessAllowed ? 'block' : 'none';\n",
              "\n",
              "        async function convertToInteractive(key) {\n",
              "          const element = document.querySelector('#df-251a8080-eb95-4e6f-b134-6f731c16f4e6');\n",
              "          const dataTable =\n",
              "            await google.colab.kernel.invokeFunction('convertToInteractive',\n",
              "                                                     [key], {});\n",
              "          if (!dataTable) return;\n",
              "\n",
              "          const docLinkHtml = 'Like what you see? Visit the ' +\n",
              "            '<a target=\"_blank\" href=https://colab.research.google.com/notebooks/data_table.ipynb>data table notebook</a>'\n",
              "            + ' to learn more about interactive tables.';\n",
              "          element.innerHTML = '';\n",
              "          dataTable['output_type'] = 'display_data';\n",
              "          await google.colab.output.renderOutput(dataTable, element);\n",
              "          const docLink = document.createElement('div');\n",
              "          docLink.innerHTML = docLinkHtml;\n",
              "          element.appendChild(docLink);\n",
              "        }\n",
              "      </script>\n",
              "    </div>\n",
              "  </div>\n",
              "  "
            ]
          },
          "metadata": {},
          "execution_count": 35
        }
      ]
    },
    {
      "cell_type": "code",
      "source": [
        "dfytest.reset_index()"
      ],
      "metadata": {
        "colab": {
          "base_uri": "https://localhost:8080/",
          "height": 424
        },
        "id": "AAuPMJL5jDan",
        "outputId": "3fee96bb-f3e6-43ed-d5b1-e4082a370098"
      },
      "id": "AAuPMJL5jDan",
      "execution_count": 37,
      "outputs": [
        {
          "output_type": "execute_result",
          "data": {
            "text/plain": [
              "          index   pressure\n",
              "0       1600016  24.326956\n",
              "1       1600017  21.163359\n",
              "2       1600018  14.133145\n",
              "3       1600019  15.820396\n",
              "4       1600020  23.764539\n",
              "...         ...        ...\n",
              "399979  1999995   6.329607\n",
              "399980  1999996   6.610815\n",
              "399981  1999997   6.329607\n",
              "399982  1999998   6.399909\n",
              "399983  1999999   6.470211\n",
              "\n",
              "[399984 rows x 2 columns]"
            ],
            "text/html": [
              "\n",
              "  <div id=\"df-74be23a4-6bd9-4c94-a805-b58e4017ed6c\">\n",
              "    <div class=\"colab-df-container\">\n",
              "      <div>\n",
              "<style scoped>\n",
              "    .dataframe tbody tr th:only-of-type {\n",
              "        vertical-align: middle;\n",
              "    }\n",
              "\n",
              "    .dataframe tbody tr th {\n",
              "        vertical-align: top;\n",
              "    }\n",
              "\n",
              "    .dataframe thead th {\n",
              "        text-align: right;\n",
              "    }\n",
              "</style>\n",
              "<table border=\"1\" class=\"dataframe\">\n",
              "  <thead>\n",
              "    <tr style=\"text-align: right;\">\n",
              "      <th></th>\n",
              "      <th>index</th>\n",
              "      <th>pressure</th>\n",
              "    </tr>\n",
              "  </thead>\n",
              "  <tbody>\n",
              "    <tr>\n",
              "      <th>0</th>\n",
              "      <td>1600016</td>\n",
              "      <td>24.326956</td>\n",
              "    </tr>\n",
              "    <tr>\n",
              "      <th>1</th>\n",
              "      <td>1600017</td>\n",
              "      <td>21.163359</td>\n",
              "    </tr>\n",
              "    <tr>\n",
              "      <th>2</th>\n",
              "      <td>1600018</td>\n",
              "      <td>14.133145</td>\n",
              "    </tr>\n",
              "    <tr>\n",
              "      <th>3</th>\n",
              "      <td>1600019</td>\n",
              "      <td>15.820396</td>\n",
              "    </tr>\n",
              "    <tr>\n",
              "      <th>4</th>\n",
              "      <td>1600020</td>\n",
              "      <td>23.764539</td>\n",
              "    </tr>\n",
              "    <tr>\n",
              "      <th>...</th>\n",
              "      <td>...</td>\n",
              "      <td>...</td>\n",
              "    </tr>\n",
              "    <tr>\n",
              "      <th>399979</th>\n",
              "      <td>1999995</td>\n",
              "      <td>6.329607</td>\n",
              "    </tr>\n",
              "    <tr>\n",
              "      <th>399980</th>\n",
              "      <td>1999996</td>\n",
              "      <td>6.610815</td>\n",
              "    </tr>\n",
              "    <tr>\n",
              "      <th>399981</th>\n",
              "      <td>1999997</td>\n",
              "      <td>6.329607</td>\n",
              "    </tr>\n",
              "    <tr>\n",
              "      <th>399982</th>\n",
              "      <td>1999998</td>\n",
              "      <td>6.399909</td>\n",
              "    </tr>\n",
              "    <tr>\n",
              "      <th>399983</th>\n",
              "      <td>1999999</td>\n",
              "      <td>6.470211</td>\n",
              "    </tr>\n",
              "  </tbody>\n",
              "</table>\n",
              "<p>399984 rows × 2 columns</p>\n",
              "</div>\n",
              "      <button class=\"colab-df-convert\" onclick=\"convertToInteractive('df-74be23a4-6bd9-4c94-a805-b58e4017ed6c')\"\n",
              "              title=\"Convert this dataframe to an interactive table.\"\n",
              "              style=\"display:none;\">\n",
              "        \n",
              "  <svg xmlns=\"http://www.w3.org/2000/svg\" height=\"24px\"viewBox=\"0 0 24 24\"\n",
              "       width=\"24px\">\n",
              "    <path d=\"M0 0h24v24H0V0z\" fill=\"none\"/>\n",
              "    <path d=\"M18.56 5.44l.94 2.06.94-2.06 2.06-.94-2.06-.94-.94-2.06-.94 2.06-2.06.94zm-11 1L8.5 8.5l.94-2.06 2.06-.94-2.06-.94L8.5 2.5l-.94 2.06-2.06.94zm10 10l.94 2.06.94-2.06 2.06-.94-2.06-.94-.94-2.06-.94 2.06-2.06.94z\"/><path d=\"M17.41 7.96l-1.37-1.37c-.4-.4-.92-.59-1.43-.59-.52 0-1.04.2-1.43.59L10.3 9.45l-7.72 7.72c-.78.78-.78 2.05 0 2.83L4 21.41c.39.39.9.59 1.41.59.51 0 1.02-.2 1.41-.59l7.78-7.78 2.81-2.81c.8-.78.8-2.07 0-2.86zM5.41 20L4 18.59l7.72-7.72 1.47 1.35L5.41 20z\"/>\n",
              "  </svg>\n",
              "      </button>\n",
              "      \n",
              "  <style>\n",
              "    .colab-df-container {\n",
              "      display:flex;\n",
              "      flex-wrap:wrap;\n",
              "      gap: 12px;\n",
              "    }\n",
              "\n",
              "    .colab-df-convert {\n",
              "      background-color: #E8F0FE;\n",
              "      border: none;\n",
              "      border-radius: 50%;\n",
              "      cursor: pointer;\n",
              "      display: none;\n",
              "      fill: #1967D2;\n",
              "      height: 32px;\n",
              "      padding: 0 0 0 0;\n",
              "      width: 32px;\n",
              "    }\n",
              "\n",
              "    .colab-df-convert:hover {\n",
              "      background-color: #E2EBFA;\n",
              "      box-shadow: 0px 1px 2px rgba(60, 64, 67, 0.3), 0px 1px 3px 1px rgba(60, 64, 67, 0.15);\n",
              "      fill: #174EA6;\n",
              "    }\n",
              "\n",
              "    [theme=dark] .colab-df-convert {\n",
              "      background-color: #3B4455;\n",
              "      fill: #D2E3FC;\n",
              "    }\n",
              "\n",
              "    [theme=dark] .colab-df-convert:hover {\n",
              "      background-color: #434B5C;\n",
              "      box-shadow: 0px 1px 3px 1px rgba(0, 0, 0, 0.15);\n",
              "      filter: drop-shadow(0px 1px 2px rgba(0, 0, 0, 0.3));\n",
              "      fill: #FFFFFF;\n",
              "    }\n",
              "  </style>\n",
              "\n",
              "      <script>\n",
              "        const buttonEl =\n",
              "          document.querySelector('#df-74be23a4-6bd9-4c94-a805-b58e4017ed6c button.colab-df-convert');\n",
              "        buttonEl.style.display =\n",
              "          google.colab.kernel.accessAllowed ? 'block' : 'none';\n",
              "\n",
              "        async function convertToInteractive(key) {\n",
              "          const element = document.querySelector('#df-74be23a4-6bd9-4c94-a805-b58e4017ed6c');\n",
              "          const dataTable =\n",
              "            await google.colab.kernel.invokeFunction('convertToInteractive',\n",
              "                                                     [key], {});\n",
              "          if (!dataTable) return;\n",
              "\n",
              "          const docLinkHtml = 'Like what you see? Visit the ' +\n",
              "            '<a target=\"_blank\" href=https://colab.research.google.com/notebooks/data_table.ipynb>data table notebook</a>'\n",
              "            + ' to learn more about interactive tables.';\n",
              "          element.innerHTML = '';\n",
              "          dataTable['output_type'] = 'display_data';\n",
              "          await google.colab.output.renderOutput(dataTable, element);\n",
              "          const docLink = document.createElement('div');\n",
              "          docLink.innerHTML = docLinkHtml;\n",
              "          element.appendChild(docLink);\n",
              "        }\n",
              "      </script>\n",
              "    </div>\n",
              "  </div>\n",
              "  "
            ]
          },
          "metadata": {},
          "execution_count": 37
        }
      ]
    },
    {
      "cell_type": "code",
      "source": [
        "dfytest['pred'] = dfytest['pressure'].apply(lambda x : model.predict(x))"
      ],
      "metadata": {
        "colab": {
          "base_uri": "https://localhost:8080/",
          "height": 312
        },
        "id": "TRPeSn5lzRza",
        "outputId": "759c9438-d8f3-45fb-b5ad-5b5f5f7d2754"
      },
      "id": "TRPeSn5lzRza",
      "execution_count": 38,
      "outputs": [
        {
          "output_type": "error",
          "ename": "IndexError",
          "evalue": "ignored",
          "traceback": [
            "\u001b[0;31m---------------------------------------------------------------------------\u001b[0m",
            "\u001b[0;31mIndexError\u001b[0m                                Traceback (most recent call last)",
            "\u001b[0;32m<ipython-input-38-020d0c002ba3>\u001b[0m in \u001b[0;36m<module>\u001b[0;34m()\u001b[0m\n\u001b[0;32m----> 1\u001b[0;31m \u001b[0mdfytest\u001b[0m\u001b[0;34m[\u001b[0m\u001b[0;34m'pred'\u001b[0m\u001b[0;34m]\u001b[0m \u001b[0;34m=\u001b[0m \u001b[0mdfytest\u001b[0m\u001b[0;34m[\u001b[0m\u001b[0;34m'pressure'\u001b[0m\u001b[0;34m]\u001b[0m\u001b[0;34m.\u001b[0m\u001b[0mapply\u001b[0m\u001b[0;34m(\u001b[0m\u001b[0;32mlambda\u001b[0m \u001b[0mx\u001b[0m \u001b[0;34m:\u001b[0m \u001b[0mmodel\u001b[0m\u001b[0;34m.\u001b[0m\u001b[0mpredict\u001b[0m\u001b[0;34m(\u001b[0m\u001b[0mx\u001b[0m\u001b[0;34m)\u001b[0m\u001b[0;34m)\u001b[0m\u001b[0;34m\u001b[0m\u001b[0;34m\u001b[0m\u001b[0m\n\u001b[0m",
            "\u001b[0;32m/usr/local/lib/python3.7/dist-packages/pandas/core/series.py\u001b[0m in \u001b[0;36mapply\u001b[0;34m(self, func, convert_dtype, args, **kwargs)\u001b[0m\n\u001b[1;32m   4355\u001b[0m         \u001b[0mdtype\u001b[0m\u001b[0;34m:\u001b[0m \u001b[0mfloat64\u001b[0m\u001b[0;34m\u001b[0m\u001b[0;34m\u001b[0m\u001b[0m\n\u001b[1;32m   4356\u001b[0m         \"\"\"\n\u001b[0;32m-> 4357\u001b[0;31m         \u001b[0;32mreturn\u001b[0m \u001b[0mSeriesApply\u001b[0m\u001b[0;34m(\u001b[0m\u001b[0mself\u001b[0m\u001b[0;34m,\u001b[0m \u001b[0mfunc\u001b[0m\u001b[0;34m,\u001b[0m \u001b[0mconvert_dtype\u001b[0m\u001b[0;34m,\u001b[0m \u001b[0margs\u001b[0m\u001b[0;34m,\u001b[0m \u001b[0mkwargs\u001b[0m\u001b[0;34m)\u001b[0m\u001b[0;34m.\u001b[0m\u001b[0mapply\u001b[0m\u001b[0;34m(\u001b[0m\u001b[0;34m)\u001b[0m\u001b[0;34m\u001b[0m\u001b[0;34m\u001b[0m\u001b[0m\n\u001b[0m\u001b[1;32m   4358\u001b[0m \u001b[0;34m\u001b[0m\u001b[0m\n\u001b[1;32m   4359\u001b[0m     def _reduce(\n",
            "\u001b[0;32m/usr/local/lib/python3.7/dist-packages/pandas/core/apply.py\u001b[0m in \u001b[0;36mapply\u001b[0;34m(self)\u001b[0m\n\u001b[1;32m   1041\u001b[0m             \u001b[0;32mreturn\u001b[0m \u001b[0mself\u001b[0m\u001b[0;34m.\u001b[0m\u001b[0mapply_str\u001b[0m\u001b[0;34m(\u001b[0m\u001b[0;34m)\u001b[0m\u001b[0;34m\u001b[0m\u001b[0;34m\u001b[0m\u001b[0m\n\u001b[1;32m   1042\u001b[0m \u001b[0;34m\u001b[0m\u001b[0m\n\u001b[0;32m-> 1043\u001b[0;31m         \u001b[0;32mreturn\u001b[0m \u001b[0mself\u001b[0m\u001b[0;34m.\u001b[0m\u001b[0mapply_standard\u001b[0m\u001b[0;34m(\u001b[0m\u001b[0;34m)\u001b[0m\u001b[0;34m\u001b[0m\u001b[0;34m\u001b[0m\u001b[0m\n\u001b[0m\u001b[1;32m   1044\u001b[0m \u001b[0;34m\u001b[0m\u001b[0m\n\u001b[1;32m   1045\u001b[0m     \u001b[0;32mdef\u001b[0m \u001b[0magg\u001b[0m\u001b[0;34m(\u001b[0m\u001b[0mself\u001b[0m\u001b[0;34m)\u001b[0m\u001b[0;34m:\u001b[0m\u001b[0;34m\u001b[0m\u001b[0;34m\u001b[0m\u001b[0m\n",
            "\u001b[0;32m/usr/local/lib/python3.7/dist-packages/pandas/core/apply.py\u001b[0m in \u001b[0;36mapply_standard\u001b[0;34m(self)\u001b[0m\n\u001b[1;32m   1099\u001b[0m                     \u001b[0mvalues\u001b[0m\u001b[0;34m,\u001b[0m\u001b[0;34m\u001b[0m\u001b[0;34m\u001b[0m\u001b[0m\n\u001b[1;32m   1100\u001b[0m                     \u001b[0mf\u001b[0m\u001b[0;34m,\u001b[0m  \u001b[0;31m# type: ignore[arg-type]\u001b[0m\u001b[0;34m\u001b[0m\u001b[0;34m\u001b[0m\u001b[0m\n\u001b[0;32m-> 1101\u001b[0;31m                     \u001b[0mconvert\u001b[0m\u001b[0;34m=\u001b[0m\u001b[0mself\u001b[0m\u001b[0;34m.\u001b[0m\u001b[0mconvert_dtype\u001b[0m\u001b[0;34m,\u001b[0m\u001b[0;34m\u001b[0m\u001b[0;34m\u001b[0m\u001b[0m\n\u001b[0m\u001b[1;32m   1102\u001b[0m                 )\n\u001b[1;32m   1103\u001b[0m \u001b[0;34m\u001b[0m\u001b[0m\n",
            "\u001b[0;32m/usr/local/lib/python3.7/dist-packages/pandas/_libs/lib.pyx\u001b[0m in \u001b[0;36mpandas._libs.lib.map_infer\u001b[0;34m()\u001b[0m\n",
            "\u001b[0;32m<ipython-input-38-020d0c002ba3>\u001b[0m in \u001b[0;36m<lambda>\u001b[0;34m(x)\u001b[0m\n\u001b[0;32m----> 1\u001b[0;31m \u001b[0mdfytest\u001b[0m\u001b[0;34m[\u001b[0m\u001b[0;34m'pred'\u001b[0m\u001b[0;34m]\u001b[0m \u001b[0;34m=\u001b[0m \u001b[0mdfytest\u001b[0m\u001b[0;34m[\u001b[0m\u001b[0;34m'pressure'\u001b[0m\u001b[0;34m]\u001b[0m\u001b[0;34m.\u001b[0m\u001b[0mapply\u001b[0m\u001b[0;34m(\u001b[0m\u001b[0;32mlambda\u001b[0m \u001b[0mx\u001b[0m \u001b[0;34m:\u001b[0m \u001b[0mmodel\u001b[0m\u001b[0;34m.\u001b[0m\u001b[0mpredict\u001b[0m\u001b[0;34m(\u001b[0m\u001b[0mx\u001b[0m\u001b[0;34m)\u001b[0m\u001b[0;34m)\u001b[0m\u001b[0;34m\u001b[0m\u001b[0;34m\u001b[0m\u001b[0m\n\u001b[0m",
            "\u001b[0;32m/usr/local/lib/python3.7/dist-packages/keras/utils/traceback_utils.py\u001b[0m in \u001b[0;36merror_handler\u001b[0;34m(*args, **kwargs)\u001b[0m\n\u001b[1;32m     65\u001b[0m     \u001b[0;32mexcept\u001b[0m \u001b[0mException\u001b[0m \u001b[0;32mas\u001b[0m \u001b[0me\u001b[0m\u001b[0;34m:\u001b[0m  \u001b[0;31m# pylint: disable=broad-except\u001b[0m\u001b[0;34m\u001b[0m\u001b[0;34m\u001b[0m\u001b[0m\n\u001b[1;32m     66\u001b[0m       \u001b[0mfiltered_tb\u001b[0m \u001b[0;34m=\u001b[0m \u001b[0m_process_traceback_frames\u001b[0m\u001b[0;34m(\u001b[0m\u001b[0me\u001b[0m\u001b[0;34m.\u001b[0m\u001b[0m__traceback__\u001b[0m\u001b[0;34m)\u001b[0m\u001b[0;34m\u001b[0m\u001b[0;34m\u001b[0m\u001b[0m\n\u001b[0;32m---> 67\u001b[0;31m       \u001b[0;32mraise\u001b[0m \u001b[0me\u001b[0m\u001b[0;34m.\u001b[0m\u001b[0mwith_traceback\u001b[0m\u001b[0;34m(\u001b[0m\u001b[0mfiltered_tb\u001b[0m\u001b[0;34m)\u001b[0m \u001b[0;32mfrom\u001b[0m \u001b[0;32mNone\u001b[0m\u001b[0;34m\u001b[0m\u001b[0;34m\u001b[0m\u001b[0m\n\u001b[0m\u001b[1;32m     68\u001b[0m     \u001b[0;32mfinally\u001b[0m\u001b[0;34m:\u001b[0m\u001b[0;34m\u001b[0m\u001b[0;34m\u001b[0m\u001b[0m\n\u001b[1;32m     69\u001b[0m       \u001b[0;32mdel\u001b[0m \u001b[0mfiltered_tb\u001b[0m\u001b[0;34m\u001b[0m\u001b[0;34m\u001b[0m\u001b[0m\n",
            "\u001b[0;32m/usr/local/lib/python3.7/dist-packages/tensorflow/python/framework/tensor_shape.py\u001b[0m in \u001b[0;36m__getitem__\u001b[0;34m(self, key)\u001b[0m\n\u001b[1;32m    900\u001b[0m       \u001b[0;32melse\u001b[0m\u001b[0;34m:\u001b[0m\u001b[0;34m\u001b[0m\u001b[0;34m\u001b[0m\u001b[0m\n\u001b[1;32m    901\u001b[0m         \u001b[0;32mif\u001b[0m \u001b[0mself\u001b[0m\u001b[0;34m.\u001b[0m\u001b[0m_v2_behavior\u001b[0m\u001b[0;34m:\u001b[0m\u001b[0;34m\u001b[0m\u001b[0;34m\u001b[0m\u001b[0m\n\u001b[0;32m--> 902\u001b[0;31m           \u001b[0;32mreturn\u001b[0m \u001b[0mself\u001b[0m\u001b[0;34m.\u001b[0m\u001b[0m_dims\u001b[0m\u001b[0;34m[\u001b[0m\u001b[0mkey\u001b[0m\u001b[0;34m]\u001b[0m\u001b[0;34m.\u001b[0m\u001b[0mvalue\u001b[0m\u001b[0;34m\u001b[0m\u001b[0;34m\u001b[0m\u001b[0m\n\u001b[0m\u001b[1;32m    903\u001b[0m         \u001b[0;32melse\u001b[0m\u001b[0;34m:\u001b[0m\u001b[0;34m\u001b[0m\u001b[0;34m\u001b[0m\u001b[0m\n\u001b[1;32m    904\u001b[0m           \u001b[0;32mreturn\u001b[0m \u001b[0mself\u001b[0m\u001b[0;34m.\u001b[0m\u001b[0m_dims\u001b[0m\u001b[0;34m[\u001b[0m\u001b[0mkey\u001b[0m\u001b[0;34m]\u001b[0m\u001b[0;34m\u001b[0m\u001b[0;34m\u001b[0m\u001b[0m\n",
            "\u001b[0;31mIndexError\u001b[0m: list index out of range"
          ]
        }
      ]
    },
    {
      "cell_type": "code",
      "source": [
        ""
      ],
      "metadata": {
        "id": "MMivLezHi51x"
      },
      "id": "MMivLezHi51x",
      "execution_count": null,
      "outputs": []
    },
    {
      "cell_type": "code",
      "source": [
        "# vérifier nom des colonnes\n",
        "df.columns"
      ],
      "metadata": {
        "colab": {
          "base_uri": "https://localhost:8080/"
        },
        "id": "ewZhqvtf1Fyt",
        "outputId": "df640ae7-f118-494e-a533-7147a73b99b0"
      },
      "id": "ewZhqvtf1Fyt",
      "execution_count": 30,
      "outputs": [
        {
          "output_type": "execute_result",
          "data": {
            "text/plain": [
              "Index(['pressure', 0], dtype='object')"
            ]
          },
          "metadata": {},
          "execution_count": 30
        }
      ]
    },
    {
      "cell_type": "code",
      "source": [
        "df.head()"
      ],
      "metadata": {
        "colab": {
          "base_uri": "https://localhost:8080/",
          "height": 206
        },
        "id": "JNpLPOXoiPvJ",
        "outputId": "b627cecf-2d05-4c42-e247-56337977abb4"
      },
      "id": "JNpLPOXoiPvJ",
      "execution_count": 31,
      "outputs": [
        {
          "output_type": "execute_result",
          "data": {
            "text/plain": [
              "   pressure          0\n",
              "0       NaN  25.795582\n",
              "1       NaN  24.549934\n",
              "2       NaN  16.076334\n",
              "3       NaN  15.274277\n",
              "4       NaN  26.317507"
            ],
            "text/html": [
              "\n",
              "  <div id=\"df-418c1f15-13c5-4e93-b596-ce01edac891d\">\n",
              "    <div class=\"colab-df-container\">\n",
              "      <div>\n",
              "<style scoped>\n",
              "    .dataframe tbody tr th:only-of-type {\n",
              "        vertical-align: middle;\n",
              "    }\n",
              "\n",
              "    .dataframe tbody tr th {\n",
              "        vertical-align: top;\n",
              "    }\n",
              "\n",
              "    .dataframe thead th {\n",
              "        text-align: right;\n",
              "    }\n",
              "</style>\n",
              "<table border=\"1\" class=\"dataframe\">\n",
              "  <thead>\n",
              "    <tr style=\"text-align: right;\">\n",
              "      <th></th>\n",
              "      <th>pressure</th>\n",
              "      <th>0</th>\n",
              "    </tr>\n",
              "  </thead>\n",
              "  <tbody>\n",
              "    <tr>\n",
              "      <th>0</th>\n",
              "      <td>NaN</td>\n",
              "      <td>25.795582</td>\n",
              "    </tr>\n",
              "    <tr>\n",
              "      <th>1</th>\n",
              "      <td>NaN</td>\n",
              "      <td>24.549934</td>\n",
              "    </tr>\n",
              "    <tr>\n",
              "      <th>2</th>\n",
              "      <td>NaN</td>\n",
              "      <td>16.076334</td>\n",
              "    </tr>\n",
              "    <tr>\n",
              "      <th>3</th>\n",
              "      <td>NaN</td>\n",
              "      <td>15.274277</td>\n",
              "    </tr>\n",
              "    <tr>\n",
              "      <th>4</th>\n",
              "      <td>NaN</td>\n",
              "      <td>26.317507</td>\n",
              "    </tr>\n",
              "  </tbody>\n",
              "</table>\n",
              "</div>\n",
              "      <button class=\"colab-df-convert\" onclick=\"convertToInteractive('df-418c1f15-13c5-4e93-b596-ce01edac891d')\"\n",
              "              title=\"Convert this dataframe to an interactive table.\"\n",
              "              style=\"display:none;\">\n",
              "        \n",
              "  <svg xmlns=\"http://www.w3.org/2000/svg\" height=\"24px\"viewBox=\"0 0 24 24\"\n",
              "       width=\"24px\">\n",
              "    <path d=\"M0 0h24v24H0V0z\" fill=\"none\"/>\n",
              "    <path d=\"M18.56 5.44l.94 2.06.94-2.06 2.06-.94-2.06-.94-.94-2.06-.94 2.06-2.06.94zm-11 1L8.5 8.5l.94-2.06 2.06-.94-2.06-.94L8.5 2.5l-.94 2.06-2.06.94zm10 10l.94 2.06.94-2.06 2.06-.94-2.06-.94-.94-2.06-.94 2.06-2.06.94z\"/><path d=\"M17.41 7.96l-1.37-1.37c-.4-.4-.92-.59-1.43-.59-.52 0-1.04.2-1.43.59L10.3 9.45l-7.72 7.72c-.78.78-.78 2.05 0 2.83L4 21.41c.39.39.9.59 1.41.59.51 0 1.02-.2 1.41-.59l7.78-7.78 2.81-2.81c.8-.78.8-2.07 0-2.86zM5.41 20L4 18.59l7.72-7.72 1.47 1.35L5.41 20z\"/>\n",
              "  </svg>\n",
              "      </button>\n",
              "      \n",
              "  <style>\n",
              "    .colab-df-container {\n",
              "      display:flex;\n",
              "      flex-wrap:wrap;\n",
              "      gap: 12px;\n",
              "    }\n",
              "\n",
              "    .colab-df-convert {\n",
              "      background-color: #E8F0FE;\n",
              "      border: none;\n",
              "      border-radius: 50%;\n",
              "      cursor: pointer;\n",
              "      display: none;\n",
              "      fill: #1967D2;\n",
              "      height: 32px;\n",
              "      padding: 0 0 0 0;\n",
              "      width: 32px;\n",
              "    }\n",
              "\n",
              "    .colab-df-convert:hover {\n",
              "      background-color: #E2EBFA;\n",
              "      box-shadow: 0px 1px 2px rgba(60, 64, 67, 0.3), 0px 1px 3px 1px rgba(60, 64, 67, 0.15);\n",
              "      fill: #174EA6;\n",
              "    }\n",
              "\n",
              "    [theme=dark] .colab-df-convert {\n",
              "      background-color: #3B4455;\n",
              "      fill: #D2E3FC;\n",
              "    }\n",
              "\n",
              "    [theme=dark] .colab-df-convert:hover {\n",
              "      background-color: #434B5C;\n",
              "      box-shadow: 0px 1px 3px 1px rgba(0, 0, 0, 0.15);\n",
              "      filter: drop-shadow(0px 1px 2px rgba(0, 0, 0, 0.3));\n",
              "      fill: #FFFFFF;\n",
              "    }\n",
              "  </style>\n",
              "\n",
              "      <script>\n",
              "        const buttonEl =\n",
              "          document.querySelector('#df-418c1f15-13c5-4e93-b596-ce01edac891d button.colab-df-convert');\n",
              "        buttonEl.style.display =\n",
              "          google.colab.kernel.accessAllowed ? 'block' : 'none';\n",
              "\n",
              "        async function convertToInteractive(key) {\n",
              "          const element = document.querySelector('#df-418c1f15-13c5-4e93-b596-ce01edac891d');\n",
              "          const dataTable =\n",
              "            await google.colab.kernel.invokeFunction('convertToInteractive',\n",
              "                                                     [key], {});\n",
              "          if (!dataTable) return;\n",
              "\n",
              "          const docLinkHtml = 'Like what you see? Visit the ' +\n",
              "            '<a target=\"_blank\" href=https://colab.research.google.com/notebooks/data_table.ipynb>data table notebook</a>'\n",
              "            + ' to learn more about interactive tables.';\n",
              "          element.innerHTML = '';\n",
              "          dataTable['output_type'] = 'display_data';\n",
              "          await google.colab.output.renderOutput(dataTable, element);\n",
              "          const docLink = document.createElement('div');\n",
              "          docLink.innerHTML = docLinkHtml;\n",
              "          element.appendChild(docLink);\n",
              "        }\n",
              "      </script>\n",
              "    </div>\n",
              "  </div>\n",
              "  "
            ]
          },
          "metadata": {},
          "execution_count": 31
        }
      ]
    },
    {
      "cell_type": "code",
      "source": [
        "df['mae'] = abs(df['ypred'] - df['ytest'])"
      ],
      "metadata": {
        "id": "EPxripSHyFUL"
      },
      "id": "EPxripSHyFUL",
      "execution_count": null,
      "outputs": []
    },
    {
      "cell_type": "code",
      "source": [
        "# exporter en csv"
      ],
      "metadata": {
        "id": "tyR3dAbwvFDX"
      },
      "id": "tyR3dAbwvFDX",
      "execution_count": null,
      "outputs": []
    },
    {
      "cell_type": "code",
      "source": [
        "filepath = os.path.join('/content/pressure_test.csv')\n",
        "df.to_csv(filepath)"
      ],
      "metadata": {
        "id": "GiPPCKT1vEuQ"
      },
      "id": "GiPPCKT1vEuQ",
      "execution_count": null,
      "outputs": []
    },
    {
      "cell_type": "markdown",
      "source": [
        "## test avec LSTM bidirectionnel"
      ],
      "metadata": {
        "id": "lFZb_ucbm-y-"
      },
      "id": "lFZb_ucbm-y-"
    },
    {
      "cell_type": "code",
      "source": [
        "from tensorflow.keras.models import Sequential\n",
        "from tensorflow.keras.layers import Dense, Embedding, LSTM, Bidirectional\n",
        "\n",
        "# Define the model\n",
        "model = Sequential()\n",
        "model.add(Bidirectional(LSTM(16, return_sequences=True, input_shape=(80, 4), activation='sigmoid')))\n",
        "model.add(Bidirectional(LSTM(16, activation='sigmoid')))\n",
        "model.add(Dense(1, activation='linear'))"
      ],
      "metadata": {
        "colab": {
          "base_uri": "https://localhost:8080/"
        },
        "id": "Xl02tWlYm9v9",
        "outputId": "88d4026a-523c-45cc-8506-a869db584ccd"
      },
      "id": "Xl02tWlYm9v9",
      "execution_count": 28,
      "outputs": [
        {
          "output_type": "stream",
          "name": "stdout",
          "text": [
            "WARNING:tensorflow:Layer lstm will not use cuDNN kernels since it doesn't meet the criteria. It will use a generic GPU kernel as fallback when running on GPU.\n",
            "WARNING:tensorflow:Layer lstm will not use cuDNN kernels since it doesn't meet the criteria. It will use a generic GPU kernel as fallback when running on GPU.\n",
            "WARNING:tensorflow:Layer lstm will not use cuDNN kernels since it doesn't meet the criteria. It will use a generic GPU kernel as fallback when running on GPU.\n",
            "WARNING:tensorflow:Layer lstm_1 will not use cuDNN kernels since it doesn't meet the criteria. It will use a generic GPU kernel as fallback when running on GPU.\n",
            "WARNING:tensorflow:Layer lstm_1 will not use cuDNN kernels since it doesn't meet the criteria. It will use a generic GPU kernel as fallback when running on GPU.\n",
            "WARNING:tensorflow:Layer lstm_1 will not use cuDNN kernels since it doesn't meet the criteria. It will use a generic GPU kernel as fallback when running on GPU.\n"
          ]
        }
      ]
    },
    {
      "cell_type": "code",
      "source": [
        "# besoin de donner input_shape et de build (car bidirectional marche pas pareil)\n",
        "input_shape=(None, 80, 4)\n",
        "model.build(input_shape)"
      ],
      "metadata": {
        "id": "qrKC6oGep3Sj"
      },
      "id": "qrKC6oGep3Sj",
      "execution_count": 29,
      "outputs": []
    },
    {
      "cell_type": "code",
      "source": [
        "model.summary()"
      ],
      "metadata": {
        "colab": {
          "base_uri": "https://localhost:8080/"
        },
        "id": "OZElZu8Dnr4Z",
        "outputId": "84f9d818-1deb-48b7-e46f-c677ab6f51e6"
      },
      "id": "OZElZu8Dnr4Z",
      "execution_count": 30,
      "outputs": [
        {
          "output_type": "stream",
          "name": "stdout",
          "text": [
            "Model: \"sequential\"\n",
            "_________________________________________________________________\n",
            " Layer (type)                Output Shape              Param #   \n",
            "=================================================================\n",
            " bidirectional (Bidirectiona  (None, 80, 32)           2688      \n",
            " l)                                                              \n",
            "                                                                 \n",
            " bidirectional_1 (Bidirectio  (None, 32)               6272      \n",
            " nal)                                                            \n",
            "                                                                 \n",
            " dense (Dense)               (None, 1)                 33        \n",
            "                                                                 \n",
            "=================================================================\n",
            "Total params: 8,993\n",
            "Trainable params: 8,993\n",
            "Non-trainable params: 0\n",
            "_________________________________________________________________\n"
          ]
        }
      ]
    },
    {
      "cell_type": "code",
      "source": [
        "# Compile the model\n",
        "model.compile(optimizer='adam',\n",
        "              loss='mse')"
      ],
      "metadata": {
        "id": "xrbZh-7vnr2S"
      },
      "id": "xrbZh-7vnr2S",
      "execution_count": 31,
      "outputs": []
    },
    {
      "cell_type": "code",
      "source": [
        "# Train the model\n",
        "model.fit(x=X_train, y=y_train, validation_data=(X_test, y_test), epochs=10, batch_size=128)"
      ],
      "metadata": {
        "colab": {
          "base_uri": "https://localhost:8080/"
        },
        "id": "IfEcsBtEnr0Q",
        "outputId": "8ea0d363-abba-462e-8636-1877ea48258e"
      },
      "id": "IfEcsBtEnr0Q",
      "execution_count": null,
      "outputs": [
        {
          "output_type": "stream",
          "name": "stdout",
          "text": [
            "Epoch 1/10\n",
            "37724/37724 [==============================] - 12823s 340ms/step - loss: 5.6354 - val_loss: 2.2576\n",
            "Epoch 2/10\n",
            "37724/37724 [==============================] - 12910s 342ms/step - loss: 2.1275 - val_loss: 1.9394\n",
            "Epoch 3/10\n",
            "37724/37724 [==============================] - 12781s 339ms/step - loss: 1.8862 - val_loss: 1.7704\n",
            "Epoch 4/10\n",
            "37724/37724 [==============================] - 12942s 343ms/step - loss: 1.7537 - val_loss: 1.6888\n",
            "Epoch 5/10\n",
            "37724/37724 [==============================] - 12916s 342ms/step - loss: 1.6679 - val_loss: 1.6387\n",
            "Epoch 6/10\n",
            "37724/37724 [==============================] - 12804s 339ms/step - loss: 1.6067 - val_loss: 1.5828\n",
            "Epoch 7/10\n",
            "26701/37724 [====================>.........] - ETA: 1:00:36 - loss: 1.5648"
          ]
        }
      ]
    },
    {
      "cell_type": "code",
      "source": [
        ""
      ],
      "metadata": {
        "id": "75L_DX3fnrx3"
      },
      "id": "75L_DX3fnrx3",
      "execution_count": null,
      "outputs": []
    },
    {
      "cell_type": "code",
      "source": [
        ""
      ],
      "metadata": {
        "id": "BMkINgEWnrvS"
      },
      "id": "BMkINgEWnrvS",
      "execution_count": null,
      "outputs": []
    },
    {
      "cell_type": "markdown",
      "source": [
        "## test avec différents paramètres"
      ],
      "metadata": {
        "id": "g0bMGQL1m2j5"
      },
      "id": "g0bMGQL1m2j5"
    }
  ],
  "metadata": {
    "colab": {
      "collapsed_sections": [],
      "name": "projet_lookback_LSTM.ipynb",
      "provenance": [],
      "machine_shape": "hm"
    },
    "kernelspec": {
      "display_name": "Python 3 (ipykernel)",
      "language": "python",
      "name": "python3"
    },
    "language_info": {
      "codemirror_mode": {
        "name": "ipython",
        "version": 3
      },
      "file_extension": ".py",
      "mimetype": "text/x-python",
      "name": "python",
      "nbconvert_exporter": "python",
      "pygments_lexer": "ipython3",
      "version": "3.9.7"
    },
    "accelerator": "GPU"
  },
  "nbformat": 4,
  "nbformat_minor": 5
}