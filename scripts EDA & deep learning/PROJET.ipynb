{
 "cells": [
  {
   "cell_type": "code",
   "execution_count": null,
   "id": "c8d261c2",
   "metadata": {
    "id": "c8d261c2"
   },
   "outputs": [],
   "source": [
    "# Imports\n",
    "import numpy as np\n",
    "import pandas as pd\n",
    "import matplotlib.pyplot as plt\n",
    "import seaborn as sns"
   ]
  },
  {
   "cell_type": "code",
   "execution_count": null,
   "id": "50c25a12",
   "metadata": {
    "colab": {
     "base_uri": "https://localhost:8080/",
     "height": 329
    },
    "id": "50c25a12",
    "outputId": "cc70296c-a149-4bb4-bc50-8df02e04b881"
   },
   "outputs": [],
   "source": [
    "# Load dataset train\n",
    "train = pd.read_csv('train.csv')"
   ]
  },
  {
   "cell_type": "code",
   "execution_count": null,
   "id": "7a86f814",
   "metadata": {},
   "outputs": [],
   "source": [
    "# EDA"
   ]
  },
  {
   "cell_type": "code",
   "execution_count": null,
   "id": "b854782e",
   "metadata": {
    "colab": {
     "base_uri": "https://localhost:8080/"
    },
    "id": "b854782e",
    "outputId": "2798e45b-8966-495b-9d69-87858199e87f"
   },
   "outputs": [],
   "source": [
    "train.shape"
   ]
  },
  {
   "cell_type": "code",
   "execution_count": null,
   "id": "f7a112e7",
   "metadata": {
    "colab": {
     "base_uri": "https://localhost:8080/"
    },
    "id": "f7a112e7",
    "outputId": "7433f398-33e3-4954-fa42-c0ed914fddc0"
   },
   "outputs": [],
   "source": [
    "train.info()"
   ]
  },
  {
   "cell_type": "code",
   "execution_count": null,
   "id": "fb2bdcae",
   "metadata": {
    "colab": {
     "base_uri": "https://localhost:8080/",
     "height": 206
    },
    "id": "fb2bdcae",
    "outputId": "96ea437e-2ff4-4ff3-cd27-aec468a96a4f"
   },
   "outputs": [],
   "source": [
    "train.head()"
   ]
  },
  {
   "cell_type": "code",
   "execution_count": null,
   "id": "c9083beb",
   "metadata": {},
   "outputs": [],
   "source": [
    "train[550:570] # pas de breath_id 8"
   ]
  },
  {
   "cell_type": "code",
   "execution_count": null,
   "id": "8478925b",
   "metadata": {},
   "outputs": [],
   "source": [
    "train[train['breath_id'] == 8]"
   ]
  },
  {
   "cell_type": "code",
   "execution_count": null,
   "id": "95kDrx2peH2j",
   "metadata": {
    "colab": {
     "base_uri": "https://localhost:8080/",
     "height": 300
    },
    "id": "95kDrx2peH2j",
    "outputId": "dbfefe41-e5fb-4dd7-d2df-96c480a46375"
   },
   "outputs": [],
   "source": [
    "train.describe()"
   ]
  },
  {
   "cell_type": "code",
   "execution_count": null,
   "id": "fd10b435",
   "metadata": {},
   "outputs": [],
   "source": [
    "train.columns"
   ]
  },
  {
   "cell_type": "code",
   "execution_count": null,
   "id": "26790c84",
   "metadata": {},
   "outputs": [],
   "source": [
    "# tentative de pairplot (sans les colonnes id et breath_id) -> pas super interessant\n",
    "plt.figure()\n",
    "sns.pairplot(train.drop(['id', 'breath_id'], axis=1)) # pour enlever les colonnes id\n",
    "plt.show()"
   ]
  },
  {
   "cell_type": "code",
   "execution_count": null,
   "id": "24c463fc",
   "metadata": {},
   "outputs": [],
   "source": [
    "# boxplot\n",
    "plt.figure()\n",
    "sns.boxplot(data = train.drop(['id', 'breath_id'], axis=1)) # pour enlever les colonnes id\n",
    "plt.show()"
   ]
  },
  {
   "cell_type": "markdown",
   "id": "d4f0a559",
   "metadata": {},
   "source": [
    "## colonne R ## \n",
    "lung attribute indicating how restricted the airway is\n",
    "higher R being harder to blow\n",
    "unit = cmH2O/L/S"
   ]
  },
  {
   "cell_type": "code",
   "execution_count": null,
   "id": "6ea178b0",
   "metadata": {
    "colab": {
     "base_uri": "https://localhost:8080/"
    },
    "id": "6ea178b0",
    "outputId": "3dd230c0-c442-4f1c-d78a-f4ab7e3a3ede"
   },
   "outputs": [],
   "source": [
    "train['R'].unique()"
   ]
  },
  {
   "cell_type": "code",
   "execution_count": null,
   "id": "e77d1501",
   "metadata": {},
   "outputs": [],
   "source": [
    "train['R'].unique()[0] #test pour utiliser les valeurs"
   ]
  },
  {
   "cell_type": "code",
   "execution_count": null,
   "id": "JCRQJZEkgKJH",
   "metadata": {
    "colab": {
     "base_uri": "https://localhost:8080/"
    },
    "id": "JCRQJZEkgKJH",
    "outputId": "e25040b4-b3e2-4500-f8fa-21536d13e793"
   },
   "outputs": [],
   "source": [
    "train['R'].nunique()"
   ]
  },
  {
   "cell_type": "code",
   "execution_count": null,
   "id": "5a463d44",
   "metadata": {},
   "outputs": [],
   "source": [
    "train['R'].value_counts()"
   ]
  },
  {
   "cell_type": "code",
   "execution_count": null,
   "id": "528f44dd",
   "metadata": {},
   "outputs": [],
   "source": [
    "train['R'].value_counts().index"
   ]
  },
  {
   "cell_type": "code",
   "execution_count": null,
   "id": "2f1a30e5",
   "metadata": {},
   "outputs": [],
   "source": [
    "# nb de breath par valeur de R\n",
    "train['breath_id'][train['R'] == 5].nunique()"
   ]
  },
  {
   "cell_type": "code",
   "execution_count": null,
   "id": "eddcd593",
   "metadata": {},
   "outputs": [],
   "source": [
    "train['breath_id'][train['R'] == 20].nunique()"
   ]
  },
  {
   "cell_type": "code",
   "execution_count": null,
   "id": "fa33c268",
   "metadata": {},
   "outputs": [],
   "source": [
    "train['breath_id'][train['R'] == 50].nunique()"
   ]
  },
  {
   "cell_type": "code",
   "execution_count": null,
   "id": "e2141dae",
   "metadata": {},
   "outputs": [],
   "source": [
    "# plot nb de breath en fonction de R - à finir\n",
    "#plt.figure()\n",
    "#for i in range(0,2):\n",
    "#    plt.hist(train['R'].unique()[i], train['breath_id'][train['R'] == train['R'].unique()[i]].nunique())\n",
    "#plt.show()"
   ]
  },
  {
   "cell_type": "code",
   "execution_count": null,
   "id": "ba6a1646",
   "metadata": {},
   "outputs": [],
   "source": [
    "plt.figure(figsize=(15,8))\n",
    "sns.scatterplot(train['time_step'], train['pressure'], hue=train['R'], palette='tab10')\n",
    "plt.show()"
   ]
  },
  {
   "cell_type": "markdown",
   "id": "f0bff1b1",
   "metadata": {},
   "source": [
    "## colonne C ##\n",
    "lung attribute indicating how compliant the lung is\n",
    "higher C being easier to blow\n",
    "unit = mL/cmH2O"
   ]
  },
  {
   "cell_type": "code",
   "execution_count": null,
   "id": "a2bd82b7",
   "metadata": {
    "colab": {
     "base_uri": "https://localhost:8080/"
    },
    "id": "a2bd82b7",
    "outputId": "464683ac-1935-4d05-f09e-d99337b94066"
   },
   "outputs": [],
   "source": [
    "train['C'].unique()"
   ]
  },
  {
   "cell_type": "code",
   "execution_count": null,
   "id": "YPXgoW1df96k",
   "metadata": {
    "colab": {
     "base_uri": "https://localhost:8080/"
    },
    "id": "YPXgoW1df96k",
    "outputId": "3f49692e-7757-4820-de62-004d603f4ccd"
   },
   "outputs": [],
   "source": [
    "train['C'].nunique()"
   ]
  },
  {
   "cell_type": "code",
   "execution_count": null,
   "id": "6YyENKJiQoaS",
   "metadata": {
    "colab": {
     "base_uri": "https://localhost:8080/",
     "height": 290
    },
    "id": "6YyENKJiQoaS",
    "outputId": "f197f35f-3f48-4bb6-8f95-7cfee6ec6d2b"
   },
   "outputs": [],
   "source": [
    "plt.figure()\n",
    "sns.histplot(train['C'])\n",
    "plt.show()"
   ]
  },
  {
   "cell_type": "markdown",
   "id": "521aacfc",
   "metadata": {},
   "source": [
    "## breath_id ##\n",
    "globally-unique time step for breaths"
   ]
  },
  {
   "cell_type": "code",
   "execution_count": null,
   "id": "FqwxNv-gMZuT",
   "metadata": {
    "colab": {
     "base_uri": "https://localhost:8080/"
    },
    "id": "FqwxNv-gMZuT",
    "outputId": "e850bd12-12fa-402a-f49a-1f250343e719"
   },
   "outputs": [],
   "source": [
    "train['breath_id'].unique()"
   ]
  },
  {
   "cell_type": "code",
   "execution_count": null,
   "id": "BrxMEC3Nf4WE",
   "metadata": {
    "colab": {
     "base_uri": "https://localhost:8080/"
    },
    "id": "BrxMEC3Nf4WE",
    "outputId": "2e49711f-3261-4e03-a3b6-ce2cd30902b2"
   },
   "outputs": [],
   "source": [
    "train['breath_id'].nunique()"
   ]
  },
  {
   "cell_type": "raw",
   "id": "656565f2",
   "metadata": {
    "id": "dfYcPm8de8gG"
   },
   "source": [
    "# 75450 breaths alors que ID jusqu'à 125749"
   ]
  },
  {
   "cell_type": "code",
   "execution_count": null,
   "id": "rDpDNVeERXg2",
   "metadata": {
    "colab": {
     "base_uri": "https://localhost:8080/"
    },
    "id": "rDpDNVeERXg2",
    "outputId": "2af5dc71-4e20-4263-bd79-12cb4365ae0b"
   },
   "outputs": [],
   "source": [
    "train['breath_id'].value_counts()"
   ]
  },
  {
   "cell_type": "raw",
   "id": "e8e0988d",
   "metadata": {},
   "source": [
    "# 80 valeur (id) par breath_id"
   ]
  },
  {
   "cell_type": "code",
   "execution_count": null,
   "id": "bSIWHOAqMmoO",
   "metadata": {
    "id": "bSIWHOAqMmoO"
   },
   "outputs": [],
   "source": [
    "import random"
   ]
  },
  {
   "cell_type": "code",
   "execution_count": null,
   "id": "db077c2a",
   "metadata": {
    "colab": {
     "base_uri": "https://localhost:8080/",
     "height": 714
    },
    "id": "db077c2a",
    "outputId": "4af15327-47e5-4603-ef38-c79384efaeb8"
   },
   "outputs": [],
   "source": [
    "# plot 200 respirations au hasard parmis les 75450 (couleur au hasard aussi)\n",
    "plt.figure(figsize=(25,12))\n",
    "for i in np.random.randint(0,75450, 200):\n",
    "  plt.plot(train['time_step'][train['breath_id'] == i], train['pressure'][train['breath_id'] == i], c=np.random.random(3))\n",
    "plt.xlabel('time step')\n",
    "plt.ylabel('pressure')\n",
    "plt.show()"
   ]
  },
  {
   "cell_type": "code",
   "execution_count": null,
   "id": "9bd27b5c",
   "metadata": {},
   "outputs": [],
   "source": [
    "# plot 4 breath \n",
    "plt.figure(figsize=(12, 8))\n",
    "\n",
    "plt.subplot(221)\n",
    "plt.plot(train['time_step'][train['breath_id'] == 1], train['pressure'][train['breath_id'] == 1], c=np.random.random(3))\n",
    "plt.title('Breath #1')\n",
    "plt.xlabel('time step')\n",
    "plt.ylabel('pressure')\n",
    "\n",
    "plt.subplot(222)\n",
    "plt.plot(train['time_step'][train['breath_id'] == 2], train['pressure'][train['breath_id'] == 2], c=np.random.random(3))\n",
    "plt.title('Breath #2')\n",
    "plt.xlabel('time step')\n",
    "plt.ylabel('pressure')\n",
    "\n",
    "plt.subplot(223)\n",
    "plt.plot(train['time_step'][train['breath_id'] == 3], train['pressure'][train['breath_id'] == 3], c=np.random.random(3))\n",
    "plt.title('Breath #3')\n",
    "plt.xlabel('time step')\n",
    "plt.ylabel('pressure')\n",
    "\n",
    "plt.subplot(224)\n",
    "plt.plot(train['time_step'][train['breath_id'] == 4], train['pressure'][train['breath_id'] == 4], c=np.random.random(3))\n",
    "plt.title('Breath #4')\n",
    "plt.xlabel('time step')\n",
    "plt.ylabel('pressure')\n",
    "\n",
    "plt.tight_layout()\n",
    "plt.show()"
   ]
  },
  {
   "cell_type": "code",
   "execution_count": null,
   "id": "d7d9d9a0",
   "metadata": {},
   "outputs": [],
   "source": [
    "int(np.random.randint(0,75450,1))"
   ]
  },
  {
   "cell_type": "code",
   "execution_count": null,
   "id": "9971eca1",
   "metadata": {},
   "outputs": [],
   "source": [
    "# plot 9 respirations au hasard\n",
    "\n",
    "plt.figure(figsize=(12, 8))\n",
    "\n",
    "for i in range(1, 10):\n",
    "    plt.subplot(int(f\"33{i}\"))\n",
    "    x = int(np.random.randint(0,75450,1))\n",
    "    plt.plot((train['time_step'][train['breath_id'] == x]), (train['pressure'][train['breath_id'] == x]), c=np.random.random(3))\n",
    "    plt.title(f'Breath #{x}')\n",
    "    plt.xlabel('time step')\n",
    "    plt.ylabel('pressure')\n",
    "\n",
    "plt.tight_layout() #pour que les subplots s'ajustent automatiquement et que les légendes ne s'overlappent pas\n",
    "plt.show()"
   ]
  },
  {
   "cell_type": "code",
   "execution_count": null,
   "id": "04ade243",
   "metadata": {},
   "outputs": [],
   "source": [
    "# plot 25 premières respirations\n",
    "\n",
    "plt.figure(figsize=(15, 11))\n",
    "\n",
    "x = 1\n",
    "for i in range(0, 25):\n",
    "    plt.subplot(5, 5, 1 + i)\n",
    "    plt.plot((train['time_step'][train['breath_id'] == x]), (train['pressure'][train['breath_id'] == x]), c=np.random.random(3))\n",
    "    plt.title(f'#{x}')\n",
    "    x += 1\n",
    "\n",
    "plt.tight_layout()\n",
    "plt.show()"
   ]
  },
  {
   "cell_type": "code",
   "execution_count": null,
   "id": "dd1c7f7d",
   "metadata": {},
   "outputs": [],
   "source": [
    "# plot 25 respirations au hasard\n",
    "\n",
    "plt.figure(figsize=(15, 11))\n",
    "\n",
    "for i in range(0, 25):\n",
    "    plt.subplot(5, 5, 1 + i)\n",
    "    x = int(np.random.randint(0,75450,1))\n",
    "    plt.plot((train['time_step'][train['breath_id'] == x]), (train['pressure'][train['breath_id'] == x]), c=np.random.random(3))\n",
    "    plt.title(f'#{x}')\n",
    "\n",
    "plt.tight_layout()\n",
    "plt.show()"
   ]
  },
  {
   "cell_type": "raw",
   "id": "7f89a1c4",
   "metadata": {},
   "source": [
    "# pas de valeurs pour chaque respiration (id pour lesquels on a rien)\n",
    "# phase d'inspiration suivie d'une phase d'expiration\n",
    "# chaque respiration différente"
   ]
  },
  {
   "cell_type": "code",
   "execution_count": null,
   "id": "37ed6ffd",
   "metadata": {},
   "outputs": [],
   "source": [
    "# to do : voir si inspi et expi toujours même durée"
   ]
  },
  {
   "cell_type": "markdown",
   "id": "e8fe5f63",
   "metadata": {},
   "source": [
    "## time step ##\n",
    "the actual time stamp"
   ]
  },
  {
   "cell_type": "code",
   "execution_count": null,
   "id": "dF_0QrNnSIUD",
   "metadata": {
    "colab": {
     "base_uri": "https://localhost:8080/"
    },
    "id": "dF_0QrNnSIUD",
    "outputId": "4a5d36b6-a4b3-4e8b-ff6f-2ce31fd52777"
   },
   "outputs": [],
   "source": [
    "train['time_step'].nunique()"
   ]
  },
  {
   "cell_type": "code",
   "execution_count": null,
   "id": "tFo8M2-qTFV7",
   "metadata": {
    "colab": {
     "base_uri": "https://localhost:8080/"
    },
    "id": "tFo8M2-qTFV7",
    "outputId": "33420351-1b8c-41b5-f860-06bd12192db0"
   },
   "outputs": [],
   "source": [
    "train['time_step'][0:15]"
   ]
  },
  {
   "cell_type": "markdown",
   "id": "v87N9phNTZ7c",
   "metadata": {
    "id": "v87N9phNTZ7c"
   },
   "source": [
    "time_step = float"
   ]
  },
  {
   "cell_type": "code",
   "execution_count": null,
   "id": "bbhmbZ13TjzI",
   "metadata": {
    "colab": {
     "base_uri": "https://localhost:8080/"
    },
    "id": "bbhmbZ13TjzI",
    "outputId": "77ce67be-9ae0-497e-afbd-c1e6d3d8f21d"
   },
   "outputs": [],
   "source": [
    "# plus grande valeur de time_step\n",
    "train['time_step'].iloc[-1]"
   ]
  },
  {
   "cell_type": "code",
   "execution_count": null,
   "id": "NEoU9DciT9Xj",
   "metadata": {
    "colab": {
     "base_uri": "https://localhost:8080/"
    },
    "id": "NEoU9DciT9Xj",
    "outputId": "1c564908-a05a-4d80-c87a-c7a45a914cd3"
   },
   "outputs": [],
   "source": [
    "# lier time_step et breath_id\n",
    "train.groupby('breath_id')['time_step']"
   ]
  },
  {
   "cell_type": "code",
   "execution_count": null,
   "id": "jMq3vN1SUjog",
   "metadata": {
    "colab": {
     "base_uri": "https://localhost:8080/"
    },
    "id": "jMq3vN1SUjog",
    "outputId": "ed90e19e-1f2b-4ba6-f12f-e55ae0ca34da"
   },
   "outputs": [],
   "source": [
    "# durée de chaque respiration\n",
    "train.groupby('breath_id')['time_step'].mean()"
   ]
  },
  {
   "cell_type": "code",
   "execution_count": null,
   "id": "_CgBq9u2U7z6",
   "metadata": {
    "colab": {
     "base_uri": "https://localhost:8080/",
     "height": 483
    },
    "id": "_CgBq9u2U7z6",
    "outputId": "6f604ed3-8bb8-45e2-efca-c87427e22d63"
   },
   "outputs": [],
   "source": [
    "plt.figure(figsize=(25,8))\n",
    "plt.plot(train.groupby('breath_id')['time_step'].mean())\n",
    "plt.show()"
   ]
  },
  {
   "cell_type": "code",
   "execution_count": null,
   "id": "e94bcf16",
   "metadata": {},
   "outputs": [],
   "source": [
    "# nul, sert à rien"
   ]
  },
  {
   "cell_type": "code",
   "execution_count": null,
   "id": "s4DRbhEBVa6C",
   "metadata": {
    "colab": {
     "base_uri": "https://localhost:8080/"
    },
    "id": "s4DRbhEBVa6C",
    "outputId": "3a1c24f3-78ab-4edb-86fa-a7dd5f681942"
   },
   "outputs": [],
   "source": [
    "train.groupby('breath_id')['time_step'].mean().sort_values()"
   ]
  },
  {
   "cell_type": "code",
   "execution_count": null,
   "id": "2cakh7oXVqXX",
   "metadata": {
    "colab": {
     "base_uri": "https://localhost:8080/"
    },
    "id": "2cakh7oXVqXX",
    "outputId": "3792b747-9915-4cf1-943a-a4d9bdc65b09"
   },
   "outputs": [],
   "source": [
    "train.groupby('breath_id')['time_step'].mean().max()"
   ]
  },
  {
   "cell_type": "code",
   "execution_count": null,
   "id": "IXCYpHULVtb8",
   "metadata": {
    "colab": {
     "base_uri": "https://localhost:8080/"
    },
    "id": "IXCYpHULVtb8",
    "outputId": "6c84c453-ee94-4dd6-e081-038069aba92a"
   },
   "outputs": [],
   "source": [
    "train.groupby('breath_id')['time_step'].mean().min()"
   ]
  },
  {
   "cell_type": "code",
   "execution_count": null,
   "id": "WCnM2DHDUXdV",
   "metadata": {
    "id": "WCnM2DHDUXdV"
   },
   "outputs": [],
   "source": [
    "# toutes les respirations ne sont pas équivalentes\n",
    "# convert time_step en datetime ?"
   ]
  },
  {
   "cell_type": "code",
   "execution_count": null,
   "id": "1430f432",
   "metadata": {},
   "outputs": [],
   "source": [
    "# time series - automatic decomposition - to find the trend and the seasonality automatically\n",
    "from statsmodels.tsa.seasonal import seasonal_decompose"
   ]
  },
  {
   "cell_type": "code",
   "execution_count": null,
   "id": "8c19c3f9",
   "metadata": {},
   "outputs": [],
   "source": [
    "# decomposition sur 1000 valeurs (sinon illisible)\n",
    "decomposition = seasonal_decompose(train['pressure'][0:1000].ffill(axis=0), period=12, extrapolate_trend='freq')"
   ]
  },
  {
   "cell_type": "code",
   "execution_count": null,
   "id": "64456e4e",
   "metadata": {},
   "outputs": [],
   "source": [
    "decomposition"
   ]
  },
  {
   "cell_type": "code",
   "execution_count": null,
   "id": "930a4c31",
   "metadata": {},
   "outputs": [],
   "source": [
    "plt.figure() # figsize ne marche pas ici - trouver comment agrandir ? \n",
    "decomposition.plot()\n",
    "plt.tight_layout()\n",
    "plt.show()"
   ]
  },
  {
   "cell_type": "code",
   "execution_count": null,
   "id": "02e89d67",
   "metadata": {},
   "outputs": [],
   "source": [
    "# trend = long-term direction of the time series - usually is increasing, decreasing, or constant.\n",
    "# logiquement devrait être constant ici"
   ]
  },
  {
   "cell_type": "code",
   "execution_count": null,
   "id": "bc327a8f",
   "metadata": {},
   "outputs": [],
   "source": [
    "# seasonality = periodic behavior of the time series that occurs within a year. "
   ]
  },
  {
   "cell_type": "code",
   "execution_count": null,
   "id": "3e6f87f9",
   "metadata": {},
   "outputs": [],
   "source": [
    "# residual = what remains of the time series after the trend and seasonality are removed"
   ]
  },
  {
   "cell_type": "code",
   "execution_count": null,
   "id": "1337c81b",
   "metadata": {},
   "outputs": [],
   "source": [
    "# the time series value is usually a combination of the above components at any point in time. \n",
    "# These values can be summed up all components, multiplying them together, or interacting with both operations"
   ]
  },
  {
   "cell_type": "markdown",
   "id": "102b0f8a",
   "metadata": {},
   "source": [
    "## u_in ##\n",
    "the control input for the inspiratory solenoid valve\n",
    "Ranges from 0 to 100 - continuous variable\n",
    "\n",
    "represents the percentage the inspiratory solenoid valve is open to let air into the lung (i.e., 0 is completely closed and no air is let in and 100 is completely open)."
   ]
  },
  {
   "cell_type": "code",
   "execution_count": null,
   "id": "iHQjzBslWQkY",
   "metadata": {
    "colab": {
     "base_uri": "https://localhost:8080/"
    },
    "id": "iHQjzBslWQkY",
    "outputId": "1a3447bb-d51a-42f3-c3a8-c497bb1b92be"
   },
   "outputs": [],
   "source": [
    "train['u_in'].unique()"
   ]
  },
  {
   "cell_type": "code",
   "execution_count": null,
   "id": "4229ZJklWU9R",
   "metadata": {
    "colab": {
     "base_uri": "https://localhost:8080/"
    },
    "id": "4229ZJklWU9R",
    "outputId": "071917ac-1198-4947-e931-5a923c00b2b3"
   },
   "outputs": [],
   "source": [
    "train['u_in'].nunique()"
   ]
  },
  {
   "cell_type": "code",
   "execution_count": null,
   "id": "hi0D7-RyWZLm",
   "metadata": {
    "colab": {
     "base_uri": "https://localhost:8080/"
    },
    "id": "hi0D7-RyWZLm",
    "outputId": "798a7c72-c81d-4b47-e9b0-c6fb4fdc4349"
   },
   "outputs": [],
   "source": [
    "train['u_in'][0:15]"
   ]
  },
  {
   "cell_type": "code",
   "execution_count": null,
   "id": "CvjOhTqNXGl_",
   "metadata": {
    "colab": {
     "base_uri": "https://localhost:8080/",
     "height": 320
    },
    "id": "CvjOhTqNXGl_",
    "outputId": "f5bef816-d19d-428a-d711-1979100054b3"
   },
   "outputs": [],
   "source": [
    "plt.figure(figsize=(26, 5))\n",
    "plt.plot(train['u_in'][0:1000])\n",
    "plt.show()"
   ]
  },
  {
   "cell_type": "code",
   "execution_count": null,
   "id": "HvA7P92DYFnx",
   "metadata": {
    "colab": {
     "base_uri": "https://localhost:8080/",
     "height": 320
    },
    "id": "HvA7P92DYFnx",
    "outputId": "7df3e2f3-3429-4c94-9f35-8ba50eb7b878"
   },
   "outputs": [],
   "source": [
    "plt.figure(figsize=(26, 5))\n",
    "plt.plot(train['u_in'][1000:2000])\n",
    "plt.show()"
   ]
  },
  {
   "cell_type": "code",
   "execution_count": null,
   "id": "tGFLoPAQYyHb",
   "metadata": {
    "colab": {
     "base_uri": "https://localhost:8080/",
     "height": 320
    },
    "id": "tGFLoPAQYyHb",
    "outputId": "d0241113-58a6-4844-8eb7-7945c0606ade"
   },
   "outputs": [],
   "source": [
    "plt.figure(figsize=(26, 5))\n",
    "plt.plot(train['u_in'][0:5000])\n",
    "plt.show()"
   ]
  },
  {
   "cell_type": "code",
   "execution_count": null,
   "id": "Fm6OMHRJYLFQ",
   "metadata": {
    "colab": {
     "base_uri": "https://localhost:8080/",
     "height": 201
    },
    "id": "Fm6OMHRJYLFQ",
    "outputId": "65f997df-5eaf-4983-dfd4-7bbe82f5bfa6"
   },
   "outputs": [],
   "source": [
    "plt.figure(figsize=(26, 5))\n",
    "plt.plot(train['u_in'][50000:51000])\n",
    "plt.show()"
   ]
  },
  {
   "cell_type": "code",
   "execution_count": null,
   "id": "7c634fbd",
   "metadata": {},
   "outputs": [],
   "source": [
    "# plot u_in et pressure\n",
    "plt.figure(figsize=(12,8))\n",
    "\n",
    "plt.plot(train['time_step'][train['breath_id'] == 1], train['pressure'][train['breath_id'] == 1], c=np.random.random(3), label='pressure')\n",
    "plt.plot(train['time_step'][train['breath_id'] == 1], train['u_in'][train['breath_id'] == 1], c=np.random.random(3), label='u_in')\n",
    "plt.title('breath #1')\n",
    "plt.xlabel('time step')\n",
    "plt.legend()\n",
    "\n",
    "plt.show()"
   ]
  },
  {
   "cell_type": "markdown",
   "id": "1e5c49d1",
   "metadata": {},
   "source": [
    "## u_out ##\n",
    "the control input for the exploratory solenoid valve\n",
    "binary variable (boolean)\n",
    "exploratory valve is open (1) or closed (0)"
   ]
  },
  {
   "cell_type": "code",
   "execution_count": null,
   "id": "ohPkDx6xXqnq",
   "metadata": {
    "colab": {
     "base_uri": "https://localhost:8080/"
    },
    "id": "ohPkDx6xXqnq",
    "outputId": "609caf3b-b055-44f0-88af-d45a081a1158"
   },
   "outputs": [],
   "source": [
    "train['u_out'].unique()"
   ]
  },
  {
   "cell_type": "code",
   "execution_count": null,
   "id": "_qlnaK53Xyuz",
   "metadata": {
    "colab": {
     "base_uri": "https://localhost:8080/"
    },
    "id": "_qlnaK53Xyuz",
    "outputId": "e633194c-fa4a-4cc7-87f7-037ad70858f9"
   },
   "outputs": [],
   "source": [
    "train['u_out'].nunique()"
   ]
  },
  {
   "cell_type": "code",
   "execution_count": null,
   "id": "I7n_0TwfX18G",
   "metadata": {
    "colab": {
     "base_uri": "https://localhost:8080/"
    },
    "id": "I7n_0TwfX18G",
    "outputId": "63d5b792-05c5-440a-b2cf-01b8491cc275"
   },
   "outputs": [],
   "source": [
    "train['u_out'][0:15]"
   ]
  },
  {
   "cell_type": "code",
   "execution_count": null,
   "id": "uke9pY0GZFQs",
   "metadata": {
    "colab": {
     "base_uri": "https://localhost:8080/"
    },
    "id": "uke9pY0GZFQs",
    "outputId": "7b875089-92ff-4c37-b975-793c8a0c218d"
   },
   "outputs": [],
   "source": [
    "train['u_out'].value_counts()"
   ]
  },
  {
   "cell_type": "code",
   "execution_count": null,
   "id": "lQmHol_VZ0UJ",
   "metadata": {
    "colab": {
     "base_uri": "https://localhost:8080/"
    },
    "id": "lQmHol_VZ0UJ",
    "outputId": "9b753153-0155-4bb6-fbc5-4aaf67e09e8e"
   },
   "outputs": [],
   "source": [
    "u_out_count = train['u_out'].value_counts()\n",
    "u_out_count"
   ]
  },
  {
   "cell_type": "code",
   "execution_count": null,
   "id": "IX-sSrKIZ7fA",
   "metadata": {
    "colab": {
     "base_uri": "https://localhost:8080/"
    },
    "id": "IX-sSrKIZ7fA",
    "outputId": "87e05920-9e6b-4548-c47b-feb0fe96e6b7"
   },
   "outputs": [],
   "source": [
    "type(u_out_count)"
   ]
  },
  {
   "cell_type": "code",
   "execution_count": null,
   "id": "74jzT7pDa-ke",
   "metadata": {
    "colab": {
     "base_uri": "https://localhost:8080/"
    },
    "id": "74jzT7pDa-ke",
    "outputId": "f076e705-29de-45a2-acbb-a20c00920624"
   },
   "outputs": [],
   "source": [
    "u_out_count.index"
   ]
  },
  {
   "cell_type": "code",
   "execution_count": null,
   "id": "UA-boesMbAOV",
   "metadata": {
    "colab": {
     "base_uri": "https://localhost:8080/"
    },
    "id": "UA-boesMbAOV",
    "outputId": "5f0725c3-3dac-4ffe-aacc-16fb6f81eb27"
   },
   "outputs": [],
   "source": [
    "u_out_count.values"
   ]
  },
  {
   "cell_type": "code",
   "execution_count": null,
   "id": "OH5qNScUX6R2",
   "metadata": {
    "colab": {
     "base_uri": "https://localhost:8080/",
     "height": 320
    },
    "id": "OH5qNScUX6R2",
    "outputId": "8aceaee5-0ace-46c7-a72a-fe17c06aa89c"
   },
   "outputs": [],
   "source": [
    "plt.figure(figsize=(26, 5))\n",
    "plt.plot(train['u_out'][0:1000])\n",
    "plt.show()"
   ]
  },
  {
   "cell_type": "code",
   "execution_count": null,
   "id": "WlNewcT_Yphb",
   "metadata": {
    "colab": {
     "base_uri": "https://localhost:8080/",
     "height": 320
    },
    "id": "WlNewcT_Yphb",
    "outputId": "abe38ebe-6384-4d11-e6fe-baf5b5086296"
   },
   "outputs": [],
   "source": [
    "plt.figure(figsize=(26, 5))\n",
    "plt.plot(train['u_out'][50000:51000])\n",
    "plt.show()"
   ]
  },
  {
   "cell_type": "code",
   "execution_count": null,
   "id": "F_c90DeOYtpf",
   "metadata": {
    "colab": {
     "base_uri": "https://localhost:8080/",
     "height": 320
    },
    "id": "F_c90DeOYtpf",
    "outputId": "edf1b214-30bc-4109-bdb5-83eef7da26c5"
   },
   "outputs": [],
   "source": [
    "plt.figure(figsize=(26, 5))\n",
    "plt.plot(train['u_out'][0:5000])\n",
    "plt.show()"
   ]
  },
  {
   "cell_type": "code",
   "execution_count": null,
   "id": "a44cjIq_gnoG",
   "metadata": {
    "colab": {
     "base_uri": "https://localhost:8080/"
    },
    "id": "a44cjIq_gnoG",
    "outputId": "de9f6c97-5b13-4946-ff0c-6740b5cedea7"
   },
   "outputs": [],
   "source": [
    "# u_out = 0 inspiration, u_out = 1 expiration ? \n",
    "# inspirations\n",
    "train['time_step'][train['u_out'] == 0]"
   ]
  },
  {
   "cell_type": "code",
   "execution_count": null,
   "id": "_Qq80vsrhQkE",
   "metadata": {
    "colab": {
     "base_uri": "https://localhost:8080/"
    },
    "id": "_Qq80vsrhQkE",
    "outputId": "29911576-7dc7-40df-bfd4-9ca638495265"
   },
   "outputs": [],
   "source": [
    "# expirations\n",
    "train['time_step'][train['u_out'] == 1]"
   ]
  },
  {
   "cell_type": "markdown",
   "id": "aa3f6be5",
   "metadata": {},
   "source": [
    "## inspirations ##"
   ]
  },
  {
   "cell_type": "markdown",
   "id": "JdRg18a_hvmG",
   "metadata": {
    "id": "JdRg18a_hvmG"
   },
   "source": [
    "plot que les inspirations"
   ]
  },
  {
   "cell_type": "code",
   "execution_count": null,
   "id": "CsdEa9tdh2W5",
   "metadata": {
    "colab": {
     "base_uri": "https://localhost:8080/",
     "height": 714
    },
    "id": "CsdEa9tdh2W5",
    "outputId": "a7e1dc49-faf8-44cc-eaf6-ea5a4d019a34"
   },
   "outputs": [],
   "source": [
    "# plot 200 inspirations au hasard parmis les 75450 (couleur au hasard aussi)\n",
    "plt.figure(figsize=(20,12))\n",
    "for i in np.random.randint(0,75450, 200):\n",
    "  plt.plot(train['time_step'][(train['breath_id'] == i) & (train['u_out'] == 0)], train['pressure'][(train['breath_id'] == i) & (train['u_out'] == 0)], c=np.random.random(3))\n",
    "plt.xlabel('time step')\n",
    "plt.ylabel('pressure')\n",
    "plt.show()"
   ]
  },
  {
   "cell_type": "markdown",
   "id": "9691f662",
   "metadata": {},
   "source": [
    "## expirations ##"
   ]
  },
  {
   "cell_type": "code",
   "execution_count": null,
   "id": "tLy9ZPamiiL3",
   "metadata": {
    "colab": {
     "base_uri": "https://localhost:8080/",
     "height": 714
    },
    "id": "tLy9ZPamiiL3",
    "outputId": "2b6cd473-6986-4c33-adb0-26e5fde0bc16"
   },
   "outputs": [],
   "source": [
    "# plot 200 expirations au hasard parmis les 75450 (couleur au hasard aussi)\n",
    "plt.figure(figsize=(20,12))\n",
    "for i in np.random.randint(0,75450, 200):\n",
    "  plt.plot(train['time_step'][(train['breath_id'] == i) & (train['u_out'] == 1)], train['pressure'][(train['breath_id'] == i) & (train['u_out'] == 1)], c=np.random.random(3))\n",
    "plt.xlabel('time step')\n",
    "plt.ylabel('pressure')\n",
    "plt.show()"
   ]
  },
  {
   "cell_type": "markdown",
   "id": "05c5733b",
   "metadata": {},
   "source": [
    "## respiration ##"
   ]
  },
  {
   "cell_type": "code",
   "execution_count": null,
   "id": "5iIkStc8iyMs",
   "metadata": {
    "id": "5iIkStc8iyMs"
   },
   "outputs": [],
   "source": [
    "# faire subplots et plotter chaque variable pour 100 breaths"
   ]
  },
  {
   "cell_type": "code",
   "execution_count": null,
   "id": "1Ldm1QqYkE9V",
   "metadata": {
    "colab": {
     "base_uri": "https://localhost:8080/"
    },
    "id": "1Ldm1QqYkE9V",
    "outputId": "318c4d74-480d-41bc-f2c8-4d1193a0c370"
   },
   "outputs": [],
   "source": [
    "train.columns"
   ]
  },
  {
   "cell_type": "code",
   "execution_count": null,
   "id": "2BWIChQ2lBnm",
   "metadata": {
    "id": "2BWIChQ2lBnm"
   },
   "outputs": [],
   "source": [
    "features = ['R', 'C', 'u_in', 'u_out', 'pressure']"
   ]
  },
  {
   "cell_type": "code",
   "execution_count": null,
   "id": "r0CCu0NFjHpi",
   "metadata": {
    "colab": {
     "base_uri": "https://localhost:8080/",
     "height": 499
    },
    "id": "r0CCu0NFjHpi",
    "outputId": "d2929fa1-8cbb-42b2-9ca7-03008ce4c82c"
   },
   "outputs": [],
   "source": [
    "# plot 1 breath\n",
    "plt.figure(figsize=(12,8))\n",
    "for i in features:\n",
    "  plt.plot(train['time_step'][train['breath_id'] == 1], train[i][train['breath_id'] == 1], label=i)\n",
    "plt.legend()\n",
    "plt.grid(which='major', color='#DDDDDD', linewidth=0.8)\n",
    "plt.grid(which='minor', color='#EEEEEE', linestyle=':', linewidth=0.5)\n",
    "plt.minorticks_on()\n",
    "plt.title('Breath n°1')\n",
    "plt.show()"
   ]
  },
  {
   "cell_type": "code",
   "execution_count": null,
   "id": "GzV0AOG2lWyi",
   "metadata": {
    "colab": {
     "base_uri": "https://localhost:8080/",
     "height": 499
    },
    "id": "GzV0AOG2lWyi",
    "outputId": "3d1dbf16-cffc-44ec-f1c9-b635a90c83e7"
   },
   "outputs": [],
   "source": [
    "# plot 1 breath\n",
    "plt.figure(figsize=(12,8))\n",
    "for i in features:\n",
    "  plt.plot(train['time_step'][train['breath_id'] == 2], train[i][train['breath_id'] == 2], label=i)\n",
    "plt.legend()\n",
    "plt.title('Breath n°2')\n",
    "plt.show()"
   ]
  },
  {
   "cell_type": "code",
   "execution_count": null,
   "id": "04eb1caf",
   "metadata": {},
   "outputs": [],
   "source": [
    "breaths = train['breath_id'].unique()"
   ]
  },
  {
   "cell_type": "code",
   "execution_count": null,
   "id": "5b34bee5",
   "metadata": {},
   "outputs": [],
   "source": [
    "plt.figure(figsize=(15, 11))\n",
    "\n",
    "for i in range(0, 25):\n",
    "    x = random.choice(breaths)\n",
    "    plt.subplot(5, 5, 1 + i)\n",
    "    for y in features:\n",
    "        plt.plot(train['time_step'][train['breath_id'] == x], train[y][train['breath_id'] == x], label=y)\n",
    "    plt.title(f'#{x}')\n",
    "    plt.grid(which='major', color='#DDDDDD', linewidth=0.8)\n",
    "    plt.grid(which='minor', color='#EEEEEE', linestyle=':', linewidth=0.5)\n",
    "    plt.minorticks_on()\n",
    "    \n",
    "plt.tight_layout()\n",
    "plt.show()"
   ]
  },
  {
   "cell_type": "code",
   "execution_count": null,
   "id": "f7b6214d",
   "metadata": {},
   "outputs": [],
   "source": [
    "plt.figure(figsize=(15, 11))\n",
    "\n",
    "for i in range(1, 10):\n",
    "    plt.subplot(3, 3, i)\n",
    "    x = random.choice(breaths)\n",
    "    for y in features:\n",
    "        plt.plot(train['time_step'][train['breath_id'] == x], train[y][train['breath_id'] == x], label=y)\n",
    "    plt.title(f'#{x}')\n",
    "    plt.legend()\n",
    "    plt.grid(which='major', color='#DDDDDD', linewidth=0.8)\n",
    "    plt.grid(which='minor', color='#EEEEEE', linestyle=':', linewidth=0.5)\n",
    "    plt.minorticks_on()\n",
    "\n",
    "plt.tight_layout()\n",
    "plt.show()"
   ]
  },
  {
   "cell_type": "markdown",
   "id": "fb1bb574",
   "metadata": {},
   "source": [
    "# feature engineering #"
   ]
  },
  {
   "cell_type": "markdown",
   "id": "f17bbc1b",
   "metadata": {},
   "source": [
    "## catégoriser poumons ? ##"
   ]
  },
  {
   "cell_type": "code",
   "execution_count": null,
   "id": "71b66b47",
   "metadata": {},
   "outputs": [],
   "source": [
    "# 3 valeurs de C, 3 valeurs de R\n",
    "# C : 50, 20, 10\n",
    "# R : 50, 20, 5\n",
    "\n",
    "# idée : feature engineering et ajouter une colonne pour catégoriser le type de poumon\n",
    "# type 1 : C50 R50\n",
    "# type 2 : C50 R20\n",
    "# type 3 : C50 R5\n",
    "# type 4 : C20 R50\n",
    "# type 5 : C20 R20\n",
    "# type 6 : C20 R5\n",
    "# type 7 : C10 R50\n",
    "# type 8 : C10 R20\n",
    "# type 8 : C10 R5"
   ]
  },
  {
   "cell_type": "code",
   "execution_count": null,
   "id": "68cd3e5b",
   "metadata": {},
   "outputs": [],
   "source": [
    "# train['C'] == 50 & train['R'] == 50"
   ]
  },
  {
   "cell_type": "markdown",
   "id": "4448b735",
   "metadata": {},
   "source": [
    "## catégoriser \"moment\" de la respiration ##"
   ]
  },
  {
   "cell_type": "code",
   "execution_count": null,
   "id": "7e0ce326",
   "metadata": {},
   "outputs": [],
   "source": [
    "# créer une sorte d'index de respiration pour voir où on est de 1 à 80"
   ]
  },
  {
   "cell_type": "code",
   "execution_count": null,
   "id": "700236a5",
   "metadata": {},
   "outputs": [],
   "source": [
    "# ne garder que les respi \"actives\" ??"
   ]
  },
  {
   "cell_type": "markdown",
   "id": "623bc60a",
   "metadata": {},
   "source": [
    "## NaN ##"
   ]
  },
  {
   "cell_type": "code",
   "execution_count": null,
   "id": "63f5cb4b",
   "metadata": {
    "id": "63f5cb4b",
    "outputId": "a9e3d3a9-6588-4eee-d050-13c2f74f08ae",
    "scrolled": true
   },
   "outputs": [],
   "source": [
    "# Valeurs manquantes\n",
    "train.isna().sum()"
   ]
  },
  {
   "cell_type": "code",
   "execution_count": null,
   "id": "edcaa1ad",
   "metadata": {
    "id": "edcaa1ad"
   },
   "outputs": [],
   "source": [
    "# Pas de valeurs manquantes"
   ]
  },
  {
   "cell_type": "markdown",
   "id": "1a49f7fb",
   "metadata": {},
   "source": [
    "## duplicates ##"
   ]
  },
  {
   "cell_type": "code",
   "execution_count": null,
   "id": "1b9b8193",
   "metadata": {
    "id": "1b9b8193",
    "outputId": "646de01d-9d73-40c8-cbc3-e13896191001"
   },
   "outputs": [],
   "source": [
    "# Duplicates\n",
    "train.duplicated().sum()"
   ]
  },
  {
   "cell_type": "code",
   "execution_count": null,
   "id": "d91c6d40",
   "metadata": {
    "id": "d91c6d40"
   },
   "outputs": [],
   "source": [
    "# Pas de duplicats"
   ]
  },
  {
   "cell_type": "markdown",
   "id": "27c58982",
   "metadata": {},
   "source": [
    "## outliers ##"
   ]
  },
  {
   "cell_type": "code",
   "execution_count": null,
   "id": "66e60f1d",
   "metadata": {
    "id": "66e60f1d"
   },
   "outputs": [],
   "source": [
    "# Outliers"
   ]
  },
  {
   "cell_type": "markdown",
   "id": "69ff4673",
   "metadata": {},
   "source": [
    "## scaling ##"
   ]
  },
  {
   "cell_type": "code",
   "execution_count": null,
   "id": "785937f6",
   "metadata": {
    "id": "785937f6"
   },
   "outputs": [],
   "source": [
    "# Scaling - nécessaire car données différent ordre, différentes unités etc"
   ]
  },
  {
   "cell_type": "markdown",
   "id": "e12cf19e",
   "metadata": {},
   "source": [
    "## dataset test ## "
   ]
  },
  {
   "cell_type": "code",
   "execution_count": null,
   "id": "936da43c",
   "metadata": {
    "colab": {
     "base_uri": "https://localhost:8080/",
     "height": 312
    },
    "id": "936da43c",
    "outputId": "8521a30a-439b-41b2-cbd6-c99ccbe67349"
   },
   "outputs": [],
   "source": [
    "test = pd.read_csv('test.csv')"
   ]
  },
  {
   "cell_type": "code",
   "execution_count": null,
   "id": "7046ab46",
   "metadata": {},
   "outputs": [],
   "source": [
    "test.shape"
   ]
  },
  {
   "cell_type": "code",
   "execution_count": null,
   "id": "948028e1",
   "metadata": {},
   "outputs": [],
   "source": [
    "test.info()"
   ]
  },
  {
   "cell_type": "code",
   "execution_count": null,
   "id": "bbf21da8",
   "metadata": {},
   "outputs": [],
   "source": [
    "test.head()"
   ]
  },
  {
   "cell_type": "code",
   "execution_count": null,
   "id": "1f910b2c",
   "metadata": {},
   "outputs": [],
   "source": [
    "test['breath_id']"
   ]
  },
  {
   "cell_type": "code",
   "execution_count": null,
   "id": "5ae065d0",
   "metadata": {},
   "outputs": [],
   "source": [
    "test['breath_id'].nunique()"
   ]
  },
  {
   "cell_type": "code",
   "execution_count": null,
   "id": "f26149fb",
   "metadata": {},
   "outputs": [],
   "source": [
    "test['breath_id'].unique()"
   ]
  },
  {
   "cell_type": "code",
   "execution_count": null,
   "id": "8f4b8fec",
   "metadata": {},
   "outputs": [],
   "source": [
    "test.columns"
   ]
  },
  {
   "cell_type": "code",
   "execution_count": null,
   "id": "52d433a7",
   "metadata": {},
   "outputs": [],
   "source": [
    "test.describe()"
   ]
  },
  {
   "cell_type": "markdown",
   "id": "dfb12e9c",
   "metadata": {},
   "source": [
    "## test ML un peu moche ##"
   ]
  },
  {
   "cell_type": "code",
   "execution_count": null,
   "id": "336508a4",
   "metadata": {},
   "outputs": [],
   "source": [
    "# sur train dataset uniquement pour voir###"
   ]
  },
  {
   "cell_type": "code",
   "execution_count": null,
   "id": "b80d4bb9",
   "metadata": {},
   "outputs": [],
   "source": [
    "# definir X et y\n",
    "X = train.drop(['id', 'breath_id', 'time_step', 'pressure'], axis=1)\n",
    "y = train['pressure']"
   ]
  },
  {
   "cell_type": "code",
   "execution_count": null,
   "id": "1de46076",
   "metadata": {},
   "outputs": [],
   "source": [
    "# train test split sur train only\n",
    "from sklearn.model_selection import train_test_split\n",
    "X_train, X_test, y_train, y_test = train_test_split(X, y, test_size=0.2, random_state=0)"
   ]
  },
  {
   "cell_type": "code",
   "execution_count": null,
   "id": "2c12d01d",
   "metadata": {},
   "outputs": [],
   "source": [
    "X_train.shape, X_test.shape, y_train.shape, y_test.shape"
   ]
  },
  {
   "cell_type": "code",
   "execution_count": null,
   "id": "0b0dba0b",
   "metadata": {},
   "outputs": [],
   "source": [
    "# rescaling rapide\n",
    "from sklearn.preprocessing import StandardScaler"
   ]
  },
  {
   "cell_type": "code",
   "execution_count": null,
   "id": "c7beb4ea",
   "metadata": {},
   "outputs": [],
   "source": [
    "scaler = StandardScaler()\n",
    "X_train = scaler.fit_transform(X_train)\n",
    "X_test = scaler.transform(X_test)"
   ]
  },
  {
   "cell_type": "code",
   "execution_count": null,
   "id": "808c7397",
   "metadata": {},
   "outputs": [],
   "source": [
    "X_train[:5]"
   ]
  },
  {
   "cell_type": "code",
   "execution_count": null,
   "id": "b8a3882e",
   "metadata": {},
   "outputs": [],
   "source": [
    "X_test[:5]"
   ]
  },
  {
   "cell_type": "code",
   "execution_count": null,
   "id": "c4508cba",
   "metadata": {},
   "outputs": [],
   "source": []
  },
  {
   "cell_type": "code",
   "execution_count": null,
   "id": "e367b0ee",
   "metadata": {},
   "outputs": [],
   "source": [
    "# linear regression\n",
    "from sklearn.linear_model import LinearRegression "
   ]
  },
  {
   "cell_type": "code",
   "execution_count": null,
   "id": "aa01628a",
   "metadata": {},
   "outputs": [],
   "source": [
    "lr = LinearRegression()"
   ]
  },
  {
   "cell_type": "code",
   "execution_count": null,
   "id": "4eded6cb",
   "metadata": {},
   "outputs": [],
   "source": [
    "%%time\n",
    "lr.fit(X_train, y_train)"
   ]
  },
  {
   "cell_type": "code",
   "execution_count": null,
   "id": "0f4dcb8f",
   "metadata": {},
   "outputs": [],
   "source": [
    "%%time\n",
    "y_pred = lr.predict(X_test)"
   ]
  },
  {
   "cell_type": "code",
   "execution_count": null,
   "id": "65fa4411",
   "metadata": {},
   "outputs": [],
   "source": [
    "print('Coefficients: ', lr.coef_)\n",
    "print('Intercept: ', lr.intercept_)"
   ]
  },
  {
   "cell_type": "code",
   "execution_count": null,
   "id": "ed81deb7",
   "metadata": {},
   "outputs": [],
   "source": [
    "from sklearn.metrics import mean_squared_error\n",
    "mse = mean_squared_error(y_test, y_pred)\n",
    "print(mse)"
   ]
  },
  {
   "cell_type": "code",
   "execution_count": null,
   "id": "12d0b83e",
   "metadata": {},
   "outputs": [],
   "source": [
    "from sklearn.metrics import mean_absolute_error\n",
    "mae = mean_absolute_error(y_test, y_pred)\n",
    "print(mae)"
   ]
  },
  {
   "cell_type": "code",
   "execution_count": null,
   "id": "83c6bf34",
   "metadata": {},
   "outputs": [],
   "source": [
    "from sklearn.metrics import mean_absolute_percentage_error\n",
    "maep = mean_absolute_percentage_error(y_test, y_pred)\n",
    "print(maep)"
   ]
  },
  {
   "cell_type": "code",
   "execution_count": null,
   "id": "005d4908",
   "metadata": {},
   "outputs": [],
   "source": [
    "from sklearn.metrics import r2_score\n",
    "r2 = r2_score(y_test, y_pred)\n",
    "print(r2)"
   ]
  },
  {
   "cell_type": "code",
   "execution_count": null,
   "id": "9bcb7ffa",
   "metadata": {},
   "outputs": [],
   "source": [
    "# KNN regressor\n",
    "from sklearn.neighbors import KNeighborsRegressor"
   ]
  },
  {
   "cell_type": "code",
   "execution_count": null,
   "id": "90927df8",
   "metadata": {},
   "outputs": [],
   "source": [
    "Knr = KNeighborsRegressor(n_neighbors=6)"
   ]
  },
  {
   "cell_type": "code",
   "execution_count": null,
   "id": "b6874c66",
   "metadata": {},
   "outputs": [],
   "source": [
    "%%time\n",
    "Knr.fit(X_train, y_train)"
   ]
  },
  {
   "cell_type": "code",
   "execution_count": null,
   "id": "e7c5a704",
   "metadata": {},
   "outputs": [],
   "source": [
    "%%time\n",
    "y_pred = Knr.predict(X_test)"
   ]
  },
  {
   "cell_type": "code",
   "execution_count": null,
   "id": "dc771c75",
   "metadata": {},
   "outputs": [],
   "source": [
    "mse = mean_squared_error(y_test, y_pred)\n",
    "print(mse)\n",
    "mae = mean_absolute_error(y_test, y_pred)\n",
    "print(mae)\n",
    "maep = mean_absolute_percentage_error(y_test, y_pred)\n",
    "print(maep)\n",
    "r2 = r2_score(y_test, y_pred)\n",
    "print(r2)"
   ]
  },
  {
   "cell_type": "code",
   "execution_count": null,
   "id": "d84860d4",
   "metadata": {},
   "outputs": [],
   "source": []
  },
  {
   "cell_type": "code",
   "execution_count": null,
   "id": "0bbad694",
   "metadata": {},
   "outputs": [],
   "source": [
    "# SVR\n",
    "#from sklearn.svm import SVR"
   ]
  },
  {
   "cell_type": "code",
   "execution_count": null,
   "id": "32ef7ea4",
   "metadata": {},
   "outputs": [],
   "source": [
    "#svr_linear = SVR(kernel=\"linear\")"
   ]
  },
  {
   "cell_type": "code",
   "execution_count": null,
   "id": "d01614e1",
   "metadata": {},
   "outputs": [],
   "source": [
    "#%%time\n",
    "#svr_linear.fit(X_train, y_train) ## trop long"
   ]
  },
  {
   "cell_type": "code",
   "execution_count": null,
   "id": "f6278645",
   "metadata": {},
   "outputs": [],
   "source": [
    "#%%time\n",
    "#y_pred = svr_linear.predict(X_test)"
   ]
  },
  {
   "cell_type": "code",
   "execution_count": null,
   "id": "5abdcf73",
   "metadata": {},
   "outputs": [],
   "source": [
    "#mse = mean_squared_error(y_test, y_pred)\n",
    "#print(mse)\n",
    "#mae = mean_absolute_error(y_test, y_pred)\n",
    "#print(mae)\n",
    "#maep = mean_absolute_percentage_error(y_test, y_pred)\n",
    "#print(maep)\n",
    "#r2 = r2_score(y_test, y_pred)\n",
    "#print(r2)"
   ]
  },
  {
   "cell_type": "code",
   "execution_count": null,
   "id": "49861bbe",
   "metadata": {},
   "outputs": [],
   "source": [
    "# test avec autre kernel"
   ]
  },
  {
   "cell_type": "code",
   "execution_count": null,
   "id": "51f59faa",
   "metadata": {},
   "outputs": [],
   "source": [
    "#svr_rbf = SVR(kernel = \"rbf\")"
   ]
  },
  {
   "cell_type": "code",
   "execution_count": null,
   "id": "6dc7ed3f",
   "metadata": {},
   "outputs": [],
   "source": [
    "#%%time\n",
    "#svr_rbf.fit(X_train, y_train)"
   ]
  },
  {
   "cell_type": "code",
   "execution_count": null,
   "id": "f6b531bb",
   "metadata": {},
   "outputs": [],
   "source": [
    "#%%time\n",
    "#y_pred = svr_rbf.predict(X_test)"
   ]
  },
  {
   "cell_type": "code",
   "execution_count": null,
   "id": "d4fad7cb",
   "metadata": {},
   "outputs": [],
   "source": [
    "#mse = mean_squared_error(y_test, y_pred)\n",
    "#print(mse)\n",
    "#mae = mean_absolute_error(y_test, y_pred)\n",
    "#print(mae)\n",
    "#maep = mean_absolute_percentage_error(y_test, y_pred)\n",
    "#print(maep)\n",
    "#r2 = r2_score(y_test, y_pred)\n",
    "#print(r2)"
   ]
  },
  {
   "cell_type": "code",
   "execution_count": null,
   "id": "cae2e6a6",
   "metadata": {},
   "outputs": [],
   "source": []
  },
  {
   "cell_type": "code",
   "execution_count": null,
   "id": "c6cdf7ae",
   "metadata": {},
   "outputs": [],
   "source": []
  },
  {
   "cell_type": "code",
   "execution_count": null,
   "id": "095d43d9",
   "metadata": {},
   "outputs": [],
   "source": []
  },
  {
   "cell_type": "code",
   "execution_count": null,
   "id": "44633684",
   "metadata": {},
   "outputs": [],
   "source": [
    "# RANSAC\n",
    "from sklearn.linear_model import RANSACRegressor"
   ]
  },
  {
   "cell_type": "code",
   "execution_count": null,
   "id": "84769044",
   "metadata": {},
   "outputs": [],
   "source": [
    "ransac = RANSACRegressor()"
   ]
  },
  {
   "cell_type": "code",
   "execution_count": null,
   "id": "d0b5d71f",
   "metadata": {},
   "outputs": [],
   "source": [
    "%%time\n",
    "ransac.fit(X_train, y_train)"
   ]
  },
  {
   "cell_type": "code",
   "execution_count": null,
   "id": "7723bcb8",
   "metadata": {},
   "outputs": [],
   "source": [
    "%%time\n",
    "y_pred = ransac.predict(X_test)"
   ]
  },
  {
   "cell_type": "code",
   "execution_count": null,
   "id": "02be1db3",
   "metadata": {},
   "outputs": [],
   "source": [
    "mse = mean_squared_error(y_test, y_pred)\n",
    "print(mse)\n",
    "mae = mean_absolute_error(y_test, y_pred)\n",
    "print(mae)\n",
    "maep = mean_absolute_percentage_error(y_test, y_pred)\n",
    "print(maep)\n",
    "r2 = r2_score(y_test, y_pred)\n",
    "print(r2)"
   ]
  },
  {
   "cell_type": "code",
   "execution_count": null,
   "id": "981a6202",
   "metadata": {},
   "outputs": [],
   "source": []
  },
  {
   "cell_type": "code",
   "execution_count": null,
   "id": "c8bf2a6d",
   "metadata": {},
   "outputs": [],
   "source": [
    "# MLP\n",
    "import tensorflow as tf"
   ]
  },
  {
   "cell_type": "code",
   "execution_count": null,
   "id": "134d58ab",
   "metadata": {},
   "outputs": [],
   "source": [
    "# Define a function\n",
    "def model(input_dim):\n",
    "    # We create a so called Sequential model\n",
    "    model = tf.keras.models.Sequential()\n",
    "    \n",
    "    # Add the first \"Dense\" layer of 3 units, and give the input dimension\n",
    "    model.add(tf.keras.layers.Dense(100, input_dim=input_dim, activation='linear'))\n",
    "    \n",
    "    # Add the second \"Dense\" layer of 3 units\n",
    "    # This time the input dimension is not needed anymore: it is known from the previous layer\n",
    "    model.add(tf.keras.layers.Dense(100, activation='linear'))\n",
    "    model.add(tf.keras.layers.Dense(100, activation='linear'))\n",
    "\n",
    "    # Add finally the output layer with one unit: the predicted result\n",
    "    model.add(tf.keras.layers.Dense(1, activation='linear'))\n",
    "\n",
    "    # return the created model\n",
    "    return model "
   ]
  },
  {
   "cell_type": "code",
   "execution_count": null,
   "id": "93546d1a",
   "metadata": {},
   "outputs": [],
   "source": [
    "my_model = model(input_dim=4)\n",
    "my_model.summary()"
   ]
  },
  {
   "cell_type": "code",
   "execution_count": null,
   "id": "20887e2e",
   "metadata": {},
   "outputs": [],
   "source": [
    "# Compile the model with mean squared error (for regression)\n",
    "my_model.compile(optimizer='adam', loss='mse', metrics=['mean_squared_error', 'mean_absolute_error'])"
   ]
  },
  {
   "cell_type": "code",
   "execution_count": null,
   "id": "d06480fc",
   "metadata": {},
   "outputs": [],
   "source": [
    "from tensorflow.keras.metrics import RootMeanSquaredError"
   ]
  },
  {
   "cell_type": "code",
   "execution_count": null,
   "id": "4d4e5d78",
   "metadata": {},
   "outputs": [],
   "source": [
    "%%time\n",
    "# Now fit the model on 100 epoches with a batch size of 64\n",
    "my_model.fit(x=X_train, y=y_train, validation_data=(X_test, y_test), epochs=20, batch_size=64)"
   ]
  },
  {
   "cell_type": "code",
   "execution_count": null,
   "id": "b5a0c149",
   "metadata": {},
   "outputs": [],
   "source": [
    "%%time\n",
    "my_model.predict(X_test)"
   ]
  },
  {
   "cell_type": "code",
   "execution_count": null,
   "id": "e55e8a79",
   "metadata": {},
   "outputs": [],
   "source": [
    "loss, mae = my_model.evaluate(X_test, y_test, verbose=0)\n",
    "print('loss is:', loss)\n",
    "print('mae is:', mean_absolute_error)\n",
    "print('mse is:', mean_squared_error)"
   ]
  },
  {
   "cell_type": "code",
   "execution_count": null,
   "id": "2c18a7d8",
   "metadata": {},
   "outputs": [],
   "source": [
    "# pour prédire sur le set test et vérifier si le modèle se trompe\n",
    "#y_pred = model.predict(X_test) #avec le vrai X_test\n",
    "#plt.figure(figsize=(16,16))\n",
    "#for i in range(81):  \n",
    "#    plt.subplot(9,9, 1 + i)\n",
    "#    plt.imshow(X_test[i].reshape(28,28), cmap=plt.get_cmap('gray_r'))\n",
    "#    plt.title(f\"t: {y_test[i]} p: {np.argmax(y_pred[i])}\" )\n",
    "#    plt.axis('off')\n",
    "#plt.show()"
   ]
  }
 ],
 "metadata": {
  "colab": {
   "collapsed_sections": [],
   "name": "Projet.ipynb",
   "provenance": []
  },
  "kernelspec": {
   "display_name": "Python 3 (ipykernel)",
   "language": "python",
   "name": "python3"
  },
  "language_info": {
   "codemirror_mode": {
    "name": "ipython",
    "version": 3
   },
   "file_extension": ".py",
   "mimetype": "text/x-python",
   "name": "python",
   "nbconvert_exporter": "python",
   "pygments_lexer": "ipython3",
   "version": "3.9.7"
  }
 },
 "nbformat": 4,
 "nbformat_minor": 5
}
